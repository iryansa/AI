{
 "cells": [
  {
   "cell_type": "markdown",
   "id": "3920b950",
   "metadata": {
    "id": "3920b950"
   },
   "source": [
    "Notebook prepared by Maryam Khalid"
   ]
  },
  {
   "cell_type": "markdown",
   "id": "66cb3e74",
   "metadata": {
    "id": "66cb3e74"
   },
   "source": [
    "# Artificial Intelligence Lab 01"
   ]
  },
  {
   "cell_type": "markdown",
   "id": "2151cda3",
   "metadata": {
    "id": "2151cda3"
   },
   "source": [
    "Python is a great general-purpose programming language on its own, but with the help of a few popular libraries (numpy, scipy, matplotlib) it becomes a powerful environment for scientific computing. Python is a high-level, dynamically typed multiparadigm programming language. Python code is often said to be almost like pseudocode, since it allows you to express very powerful ideas in very few lines of code while being very readable."
   ]
  },
  {
   "cell_type": "markdown",
   "id": "6daa4817",
   "metadata": {
    "id": "6daa4817"
   },
   "source": [
    "## Print statement"
   ]
  },
  {
   "cell_type": "code",
   "execution_count": 1,
   "id": "c3161cdb",
   "metadata": {
    "id": "c3161cdb",
    "outputId": "074a7513-1227-40db-b4ea-b3b29dd02d7e"
   },
   "outputs": [
    {
     "name": "stdout",
     "output_type": "stream",
     "text": [
      "This is my first hands-on in Python :)\n"
     ]
    }
   ],
   "source": [
    "print('This is my first hands-on in Python :)')"
   ]
  },
  {
   "cell_type": "code",
   "execution_count": 2,
   "id": "632c1529",
   "metadata": {
    "id": "632c1529",
    "outputId": "312870d6-1dc8-4250-9f56-747dd3a25e45"
   },
   "outputs": [
    {
     "name": "stdout",
     "output_type": "stream",
     "text": [
      "This is my first hands-on in Python :)\n"
     ]
    }
   ],
   "source": [
    "print('This is my {} hands-on in {} :)'.format('first', 'Python'))"
   ]
  },
  {
   "cell_type": "code",
   "execution_count": 37,
   "id": "e2454fca",
   "metadata": {
    "id": "e2454fca",
    "outputId": "b008e6fe-1dd0-4166-c21a-4bd21b438ae9"
   },
   "outputs": [
    {
     "name": "stdout",
     "output_type": "stream",
     "text": [
      "one\n",
      "two\n",
      "three\n",
      "\n",
      "\n"
     ]
    }
   ],
   "source": [
    "# -- output in next lines\n",
    "print(\"\"\"one\n",
    "two\n",
    "three\n",
    "\n",
    "\"\"\")\n"
   ]
  },
  {
   "cell_type": "code",
   "execution_count": 39,
   "id": "1c796620",
   "metadata": {
    "id": "1c796620",
    "outputId": "09313942-ea5f-4178-bf67-e01db9ae808c"
   },
   "outputs": [
    {
     "name": "stdout",
     "output_type": "stream",
     "text": [
      "Hello I am here\n",
      ".Ok?\n",
      "hi are u ok Sara\n",
      "Sarah are u 18?\n"
     ]
    }
   ],
   "source": [
    "# -- next line\n",
    "print(\"Hello I am here\\n.Ok?\")\n",
    "\n",
    "# -- print different datatypes\n",
    "name = 'Sara'\n",
    "print(f'hi are u ok {name}')\n",
    "age = 18\n",
    "print(f'Sarah are u {age}?')"
   ]
  },
  {
   "cell_type": "markdown",
   "id": "09286d2d",
   "metadata": {
    "id": "09286d2d"
   },
   "source": [
    "## User Input"
   ]
  },
  {
   "cell_type": "code",
   "execution_count": 5,
   "id": "1735b3a6",
   "metadata": {
    "id": "1735b3a6",
    "outputId": "8dfe38c1-ff1b-4926-8933-4e91adcb6b60"
   },
   "outputs": [
    {
     "name": "stdin",
     "output_type": "stream",
     "text": [
      "Enter username: user123\n"
     ]
    },
    {
     "name": "stdout",
     "output_type": "stream",
     "text": [
      "Username is: user123\n"
     ]
    }
   ],
   "source": [
    "name = input(\"Enter username:\")\n",
    "print(\"Username is: \" + name)"
   ]
  },
  {
   "cell_type": "code",
   "execution_count": 6,
   "id": "ea3125ba",
   "metadata": {
    "id": "ea3125ba"
   },
   "outputs": [],
   "source": [
    "# Ask name and registration id from user and display it on screen\n",
    "#YOUR CODE HERE"
   ]
  },
  {
   "cell_type": "markdown",
   "id": "24c88708",
   "metadata": {
    "id": "24c88708"
   },
   "source": [
    "## Variables/Data types"
   ]
  },
  {
   "cell_type": "code",
   "execution_count": 7,
   "id": "93e57db0",
   "metadata": {
    "id": "93e57db0",
    "outputId": "1ffde83a-1364-45fa-8e0c-577173aba4a7"
   },
   "outputs": [
    {
     "name": "stdout",
     "output_type": "stream",
     "text": [
      "Telso5\n"
     ]
    }
   ],
   "source": [
    "\n",
    "# You don't have to tell the type of variable\n",
    "\n",
    "apples = 5\n",
    "price_of_apples = 5.6\n",
    "brand_of_appls = \"Telso\"\n",
    "\n",
    "print(brand_of_appls + str(apples))"
   ]
  },
  {
   "cell_type": "code",
   "execution_count": 8,
   "id": "0d5ab612",
   "metadata": {
    "id": "0d5ab612"
   },
   "outputs": [],
   "source": [
    "x = 1\n",
    "y = 3.5\n",
    "z = 'Programming'\n",
    "w = True"
   ]
  },
  {
   "cell_type": "code",
   "execution_count": 9,
   "id": "d596a331",
   "metadata": {
    "id": "d596a331",
    "outputId": "2a908bc1-251d-4d0f-c868-28543b0c9761"
   },
   "outputs": [
    {
     "name": "stdout",
     "output_type": "stream",
     "text": [
      "1 3.5 Programming True\n"
     ]
    }
   ],
   "source": [
    "print(x, y, z, w)"
   ]
  },
  {
   "cell_type": "code",
   "execution_count": 10,
   "id": "3fa8e332",
   "metadata": {
    "id": "3fa8e332",
    "outputId": "1e65a210-3332-46be-832e-3f56a6bf8d0a"
   },
   "outputs": [
    {
     "name": "stdout",
     "output_type": "stream",
     "text": [
      "<class 'int'> <class 'float'> <class 'str'> <class 'bool'>\n"
     ]
    }
   ],
   "source": [
    "print(type(x), type(y), type(z), type(w))"
   ]
  },
  {
   "cell_type": "code",
   "execution_count": 11,
   "id": "a8f3f805",
   "metadata": {
    "id": "a8f3f805"
   },
   "outputs": [],
   "source": [
    "#Initialize a variable with your name and print its type\n",
    "#YOUR CODE HERE"
   ]
  },
  {
   "cell_type": "markdown",
   "id": "6913cc5d",
   "metadata": {
    "id": "6913cc5d"
   },
   "source": [
    "## Arithmetic Operators"
   ]
  },
  {
   "cell_type": "code",
   "execution_count": 12,
   "id": "7fd24381",
   "metadata": {
    "id": "7fd24381",
    "outputId": "3e762968-369b-4ae7-cf5e-9313c6e245a5"
   },
   "outputs": [
    {
     "data": {
      "text/plain": [
       "10"
      ]
     },
     "execution_count": 12,
     "metadata": {},
     "output_type": "execute_result"
    }
   ],
   "source": [
    "5+5"
   ]
  },
  {
   "cell_type": "code",
   "execution_count": 13,
   "id": "d62fb6d5",
   "metadata": {
    "id": "d62fb6d5",
    "outputId": "905adc4d-0c98-4782-ad68-35a6c84807eb"
   },
   "outputs": [
    {
     "name": "stdout",
     "output_type": "stream",
     "text": [
      "2\n",
      "0\n",
      "2\n",
      "0.5\n",
      "1\n",
      "0\n"
     ]
    }
   ],
   "source": [
    "print(x + 1)   # Addition\n",
    "print(x - 1)   # Subtraction\n",
    "print(x * 2)   # Multiplication\n",
    "print(x / 2)  # Division\n",
    "print(x ** 2)  # Exponentiation\n",
    "print(5 %5)  #remainder\n"
   ]
  },
  {
   "cell_type": "code",
   "execution_count": 14,
   "id": "c79fa559",
   "metadata": {
    "id": "c79fa559",
    "outputId": "7b2b7d88-1d95-43c8-88d9-4a7616a5ffa6"
   },
   "outputs": [
    {
     "name": "stdin",
     "output_type": "stream",
     "text": [
      "Write a number ? 12\n"
     ]
    },
    {
     "name": "stdout",
     "output_type": "stream",
     "text": [
      "12\n",
      "17\n"
     ]
    }
   ],
   "source": [
    "# -- int\n",
    "number = input('Write a number ?')\n",
    "print(number)\n",
    "\n",
    "#----2. Typecasting variables\n",
    "print(5+int(number))\n"
   ]
  },
  {
   "cell_type": "markdown",
   "id": "e169d68f",
   "metadata": {
    "id": "e169d68f"
   },
   "source": [
    "## Boolean Operators"
   ]
  },
  {
   "cell_type": "code",
   "execution_count": 15,
   "id": "428743e0",
   "metadata": {
    "id": "428743e0",
    "outputId": "8ee80c54-2305-436e-a7e3-99e5599375d3"
   },
   "outputs": [
    {
     "name": "stdout",
     "output_type": "stream",
     "text": [
      "False\n",
      "True\n",
      "False\n",
      "True\n"
     ]
    }
   ],
   "source": [
    "t, f = True, False\n",
    "\n",
    "print(t and f) # Logical AND\n",
    "print(t or f)  # Logical OR\n",
    "print(not t)   # Logical NOT\n",
    "print(t != f)  # Logical XOR"
   ]
  },
  {
   "cell_type": "markdown",
   "id": "bb7961b7",
   "metadata": {
    "id": "bb7961b7"
   },
   "source": [
    "## Strings"
   ]
  },
  {
   "cell_type": "code",
   "execution_count": 16,
   "id": "ea766ef6",
   "metadata": {
    "id": "ea766ef6",
    "outputId": "d58d4afc-bebd-4ab1-9036-359e3c873474"
   },
   "outputs": [
    {
     "name": "stdout",
     "output_type": "stream",
     "text": [
      "hello 5\n"
     ]
    }
   ],
   "source": [
    "hello = 'hello'   # String literals can use single quotes\n",
    "world = \"world\"   # or double quotes; it does not matter\n",
    "\n",
    "print(hello, len(hello)) #len=length"
   ]
  },
  {
   "cell_type": "code",
   "execution_count": 17,
   "id": "0042c194",
   "metadata": {
    "id": "0042c194",
    "outputId": "d927ceaf-7ef3-4acc-cd36-284fdd3fd430"
   },
   "outputs": [
    {
     "name": "stdout",
     "output_type": "stream",
     "text": [
      "hello world\n"
     ]
    }
   ],
   "source": [
    "hw = hello + ' ' + world  # String concatenation\n",
    "print(hw)"
   ]
  },
  {
   "cell_type": "code",
   "execution_count": 18,
   "id": "161da4d4",
   "metadata": {
    "id": "161da4d4",
    "outputId": "a663248d-f5f6-4916-d539-07472d319cbb"
   },
   "outputs": [
    {
     "name": "stdout",
     "output_type": "stream",
     "text": [
      "hello world 12\n"
     ]
    }
   ],
   "source": [
    "hw12 = '{} {} {}'.format(hello, world, 12)  # string formatting\n",
    "print(hw12)"
   ]
  },
  {
   "cell_type": "code",
   "execution_count": 43,
   "id": "a49c5254",
   "metadata": {
    "id": "a49c5254",
    "outputId": "50586dc2-6855-454f-9f83-1db585a015bc"
   },
   "outputs": [
    {
     "name": "stdout",
     "output_type": "stream",
     "text": [
      "Hello\n",
      "HELLO\n",
      "  hello\n",
      " hello \n",
      "heDDDDo\n",
      "world\n"
     ]
    }
   ],
   "source": [
    "s = \"hello\"\n",
    "print(s.capitalize())  # Capitalize a string\n",
    "print(s.upper())       # Convert a string to uppercase; prints \"HELLO\"\n",
    "print(s.rjust(7))      # Right-justify a string, padding with spaces\n",
    "print(s.center(7))     # Center a string, padding with spaces\n",
    "print(s.replace('l', 'DD'))  # Replace all instances of one substring with another\n",
    "print('  world '.strip())  # Strip leading and trailing whitespace"
   ]
  },
  {
   "cell_type": "code",
   "execution_count": 20,
   "id": "f78ddafd",
   "metadata": {
    "id": "f78ddafd"
   },
   "outputs": [],
   "source": [
    "#Initialize a variable with a person sitting next to you.\n",
    "#YOUR CODE HERE\n",
    "\n",
    "\n",
    "#Concatenate your name with it.\n",
    "#YOUR CODE HERE\n",
    "\n",
    "\n",
    "#Replace the person's name with the sentence 'is my Best friend, I will pay for his/her lunch today :D'\n",
    "#YOUR CODE HERE"
   ]
  },
  {
   "cell_type": "markdown",
   "id": "3756af68",
   "metadata": {
    "id": "3756af68"
   },
   "source": [
    "## Conditionals"
   ]
  },
  {
   "cell_type": "code",
   "execution_count": 21,
   "id": "8f00973e",
   "metadata": {
    "id": "8f00973e",
    "outputId": "a3c0c115-f5ef-4c0c-e507-a2895839c923"
   },
   "outputs": [
    {
     "name": "stdout",
     "output_type": "stream",
     "text": [
      "positive\n"
     ]
    }
   ],
   "source": [
    "my_variable = 5\n",
    "\n",
    "if my_variable < 0:\n",
    "  print(\"negative\")\n",
    "elif my_variable == 0:\n",
    "  print(\"null\")\n",
    "else:\n",
    "  print(\"positive\")"
   ]
  },
  {
   "cell_type": "markdown",
   "id": "590a2c3e",
   "metadata": {
    "id": "590a2c3e"
   },
   "source": [
    "## Loops"
   ]
  },
  {
   "cell_type": "markdown",
   "id": "ce7d2af1",
   "metadata": {
    "id": "ce7d2af1"
   },
   "source": [
    "Loops are a way to execute a block of code multiple times. There are two main types of loops: while loops and for loops."
   ]
  },
  {
   "cell_type": "code",
   "execution_count": 22,
   "id": "10bd34a2",
   "metadata": {
    "id": "10bd34a2",
    "outputId": "1dc892d4-4cec-45ce-ebe1-2a65addf2d93"
   },
   "outputs": [
    {
     "name": "stdout",
     "output_type": "stream",
     "text": [
      "0\n",
      "1\n",
      "2\n",
      "3\n",
      "4\n",
      "5\n",
      "6\n"
     ]
    }
   ],
   "source": [
    "i = 0\n",
    "while i < len('Program'):\n",
    "  print(i)\n",
    "  i += 1 # equivalent to i = i + 1"
   ]
  },
  {
   "cell_type": "code",
   "execution_count": 23,
   "id": "b62ec923",
   "metadata": {
    "id": "b62ec923",
    "outputId": "09b4c434-5e3c-4a51-eb68-fb0ebe36bc71"
   },
   "outputs": [
    {
     "name": "stdout",
     "output_type": "stream",
     "text": [
      "0\n",
      "1\n",
      "2\n",
      "3\n",
      "4\n",
      "5\n",
      "6\n"
     ]
    }
   ],
   "source": [
    "for i in range(len('Program')):\n",
    "  print(i)"
   ]
  },
  {
   "cell_type": "code",
   "execution_count": 24,
   "id": "9516ab66",
   "metadata": {
    "id": "9516ab66",
    "outputId": "948b5ec5-5f90-4966-ee9e-e713e6507efe"
   },
   "outputs": [
    {
     "name": "stdout",
     "output_type": "stream",
     "text": [
      "b\n",
      "a\n",
      "n\n",
      "a\n",
      "n\n",
      "a\n"
     ]
    }
   ],
   "source": [
    "for x in \"banana\":\n",
    "  print(x)"
   ]
  },
  {
   "cell_type": "markdown",
   "id": "1930d93f",
   "metadata": {
    "id": "1930d93f"
   },
   "source": [
    "## Functions"
   ]
  },
  {
   "cell_type": "markdown",
   "id": "d4f9b7f9",
   "metadata": {
    "id": "d4f9b7f9"
   },
   "source": [
    "Python functions are defined using the `def` keyword. For example:"
   ]
  },
  {
   "cell_type": "code",
   "execution_count": 25,
   "id": "622d3bd4",
   "metadata": {
    "id": "622d3bd4"
   },
   "outputs": [],
   "source": [
    "def sign(x):\n",
    "    if x > 0:\n",
    "        return 'positive'\n",
    "    elif x < 0:\n",
    "        return 'negative'\n",
    "    else:\n",
    "        return 'zero'"
   ]
  },
  {
   "cell_type": "code",
   "execution_count": 26,
   "id": "0942de03",
   "metadata": {
    "id": "0942de03",
    "outputId": "1b85f64b-8dad-45b6-c04c-e45c77f918ac"
   },
   "outputs": [
    {
     "name": "stdout",
     "output_type": "stream",
     "text": [
      "negative\n"
     ]
    }
   ],
   "source": [
    "print(sign(-5))"
   ]
  },
  {
   "cell_type": "markdown",
   "id": "8ea65dee",
   "metadata": {
    "id": "8ea65dee"
   },
   "source": [
    "We will often define functions to take optional keyword arguments, like this:"
   ]
  },
  {
   "cell_type": "code",
   "execution_count": 27,
   "id": "e42b0a85",
   "metadata": {
    "id": "e42b0a85",
    "outputId": "86cb4ade-db63-4008-c2f9-b167e7c4f158"
   },
   "outputs": [
    {
     "name": "stdout",
     "output_type": "stream",
     "text": [
      "Hello, maryam!\n",
      "HELLO, MARYAM\n"
     ]
    }
   ],
   "source": [
    "def hello(name, loud=False):\n",
    "    if loud:\n",
    "        print('HELLO, {}'.format(name.upper()))\n",
    "    else:\n",
    "        print('Hello, {}!'.format(name))\n",
    "\n",
    "hello('maryam')\n",
    "hello('maryam', loud=True)"
   ]
  },
  {
   "cell_type": "code",
   "execution_count": 28,
   "id": "f8a2c41d",
   "metadata": {
    "id": "f8a2c41d",
    "outputId": "c25aed36-d967-46cf-d848-0558fb40aafe"
   },
   "outputs": [
    {
     "data": {
      "text/plain": [
       "36"
      ]
     },
     "execution_count": 28,
     "metadata": {},
     "output_type": "execute_result"
    }
   ],
   "source": [
    "def square(x):\n",
    "  return x ** 2\n",
    "\n",
    "def multiply(a, b):\n",
    "  return a * b\n",
    "\n",
    "# Functions can be composed.\n",
    "square(multiply(3, 2))"
   ]
  },
  {
   "cell_type": "code",
   "execution_count": 29,
   "id": "8035fede",
   "metadata": {
    "id": "8035fede",
    "outputId": "dbda323d-034e-47d2-b43f-21a6faccf7bf"
   },
   "outputs": [
    {
     "name": "stdout",
     "output_type": "stream",
     "text": [
      "The sum is 48\n",
      "I like pop\n",
      "I like rock\n",
      "I like jazz\n",
      "0\n",
      "1\n",
      "5\n",
      "No items left.\n"
     ]
    }
   ],
   "source": [
    "\n",
    "\n",
    "# ----1. Looping through List\n",
    "\n",
    "# ---- Get The Value and work with it\n",
    "# Program to find the sum of all numbers stored in a list\n",
    "\n",
    "# List of numbers\n",
    "numbers = [6, 5, 3, 8, 4, 2, 5, 4, 11]\n",
    "\n",
    "# variable to store the sum\n",
    "sum = 0\n",
    "\n",
    "# iterate over the list\n",
    "for val in numbers:\n",
    "    sum = sum+val\n",
    "\n",
    "print(\"The sum is\", sum)\n",
    "\n",
    "# ----- Indexing\n",
    "# Program to iterate through a list using indexing\n",
    "\n",
    "genre = ['pop', 'rock', 'jazz']\n",
    "\n",
    "# iterate over the list using index\n",
    "for i in range(len(genre)):\n",
    "    print(\"I like\", genre[i])\n",
    "\n",
    "# ------ For Loop with else block\n",
    "digits = [0, 1, 5]\n",
    "\n",
    "for i in digits:\n",
    "    print(i)\n",
    "else:\n",
    "    print(\"No items left.\")\n"
   ]
  },
  {
   "cell_type": "code",
   "execution_count": 30,
   "id": "e687741d",
   "metadata": {
    "id": "e687741d",
    "outputId": "17d8bbb8-76ec-486c-afbb-48ea15351776"
   },
   "outputs": [
    {
     "name": "stdout",
     "output_type": "stream",
     "text": [
      "The sum is 55\n"
     ]
    }
   ],
   "source": [
    "#--------------------#\n",
    "#    While loop      #\n",
    "#--------------------#\n",
    "n = 10\n",
    "\n",
    "# initialize sum and counter\n",
    "sum = 0\n",
    "i = 1\n",
    "\n",
    "while i <= n:\n",
    "    sum = sum + i\n",
    "    i = i+1    # update counter\n",
    "\n",
    "# print the sum\n",
    "print(\"The sum is\", sum)\n",
    "\n",
    "#it can have else block as well"
   ]
  },
  {
   "cell_type": "markdown",
   "id": "437567bb",
   "metadata": {
    "id": "437567bb"
   },
   "source": [
    " ## Lists"
   ]
  },
  {
   "cell_type": "code",
   "execution_count": 31,
   "id": "2f9a9ca7",
   "metadata": {
    "id": "2f9a9ca7",
    "outputId": "b8b61b65-8b3d-4c62-bb82-59189f5ce5f5"
   },
   "outputs": [
    {
     "name": "stdout",
     "output_type": "stream",
     "text": [
      "[[11.0, 12.0], [13.0, 15.0], [16.0, 19.0, 12.0]]\n"
     ]
    }
   ],
   "source": [
    "\n",
    "#----1. Create Python Lists----\n",
    "\n",
    "# --list of floats\n",
    "areas = [10.0, 16.0, 10.0]\n",
    "\n",
    "# --list with mixed data types\n",
    "areas = [\"hall\", 10.0, \"bath\" , 16.0 , \"bed\", 10.0]\n",
    "\n",
    "# --nested list\n",
    "# a. list as an item\n",
    "\n",
    "garage_area = [11.0,12.0]\n",
    "areas = [\"hall\", 10.0, \"bath\" , 16.0 , \"bed\", 10.0 , garage_area]\n",
    "\n",
    "# b. list of lists\n",
    "\n",
    "bedroom_area = [11.0 , 12.0]\n",
    "hallway_area = [13.0 , 15.0]\n",
    "pool_area = [16.0 , 19.0 , 12.0]\n",
    "\n",
    "areas = [bedroom_area , hallway_area , pool_area]\n",
    "print(areas)\n"
   ]
  },
  {
   "cell_type": "code",
   "execution_count": 32,
   "id": "abce0dbf",
   "metadata": {
    "id": "abce0dbf",
    "outputId": "27a66ff0-35fa-42d4-a94b-6f1f13b7fa2d"
   },
   "outputs": [
    {
     "name": "stdout",
     "output_type": "stream",
     "text": [
      "0\n",
      "3\n"
     ]
    }
   ],
   "source": [
    "#----2. Access List Elements ----\n",
    "\n",
    "# -- List index\n",
    "numbers = [0, 1, 2, 3, 4, 5, 6, 7]\n",
    "\n",
    "print(numbers[0])\n",
    "\n",
    "# -- Nested List indexing\n",
    "\n",
    "numbers2d = [[0,1],[2,3],[3,5]]\n",
    "\n",
    "print(numbers2d[1][1])\n",
    "\n"
   ]
  },
  {
   "cell_type": "code",
   "execution_count": 33,
   "id": "8a79e668",
   "metadata": {
    "id": "8a79e668",
    "outputId": "67f05990-a2bc-4d91-ea85-a5b6d790b7a3"
   },
   "outputs": [
    {
     "name": "stdout",
     "output_type": "stream",
     "text": [
      "[2, 3, 4, 5]\n",
      "[3, 4, 5, 6, 7]\n",
      "[0, 1, 2, 3, 4, 5, 6, 7]\n"
     ]
    }
   ],
   "source": [
    "#----2. List Slicing Elements ----\n",
    "\n",
    "print(numbers[2:6])\n",
    "\n",
    "print(numbers[3:])\n",
    "\n",
    "print(numbers[:])\n",
    "\n"
   ]
  },
  {
   "cell_type": "code",
   "execution_count": 34,
   "id": "32c0fd81",
   "metadata": {
    "id": "32c0fd81",
    "outputId": "a21420c0-f9e9-4baa-d7ca-bb19c91a580b"
   },
   "outputs": [
    {
     "name": "stdout",
     "output_type": "stream",
     "text": [
      "[3, 5, 7, 11]\n",
      "[0, 2, 4, 8]\n"
     ]
    }
   ],
   "source": [
    "#----3. Mutable Lists ----\n",
    "\n",
    "even = [3 , 5 , 7 , 11]\n",
    "print(even)\n",
    "even[0] = 0\n",
    "\n",
    "even[1:] = [2,4,8]\n",
    "\n",
    "print(even)\n",
    "\n"
   ]
  },
  {
   "cell_type": "code",
   "execution_count": 45,
   "id": "c29c83c9",
   "metadata": {
    "id": "c29c83c9",
    "outputId": "9d11128e-e2ea-458c-85b3-6360417fca92"
   },
   "outputs": [
    {
     "name": "stdout",
     "output_type": "stream",
     "text": [
      "[1, 3, 5, 9, 7, 5]\n",
      "['re', 're', 're']\n"
     ]
    }
   ],
   "source": [
    "#---- 4. Concatenating and repeating lists\n",
    "odd = [1, 3, 5]\n",
    "\n",
    "print(odd + [9, 7, 5])\n",
    "\n",
    "print([\"re\"] * 3)"
   ]
  },
  {
   "cell_type": "code",
   "execution_count": 50,
   "id": "8fa1a9a0",
   "metadata": {
    "id": "8fa1a9a0",
    "outputId": "069951a7-ad50-4d81-c4b9-d217948d00e5"
   },
   "outputs": [
    {
     "name": "stdout",
     "output_type": "stream",
     "text": [
      "[3, 5, 7, 11, 12, [14, 16]]\n",
      "[3, 5, 7, 11, 12, [14, 16], 14, 16, 18]\n",
      "[1, 3, 9]\n",
      "[1, 3, 5, 7, 9]\n"
     ]
    }
   ],
   "source": [
    "# ---- 5. List Methods\n",
    "even = [3 , 5 , 7 , 11]\n",
    "\n",
    "# append() 1 item\n",
    "even.append(12)\n",
    "even.append([14,16]) #will be added as list\n",
    "\n",
    "print(even)\n",
    "\n",
    "# extend() add more items\n",
    "# even.append([14,16,18])\n",
    "even.extend([14,16,18])\n",
    "print(even)\n",
    "\n",
    "#insert() 1 or more at a position\n",
    "odd = [1, 9]\n",
    "odd.insert(1,3)\n",
    "\n",
    "print(odd)\n",
    "\n",
    "#odd[2:2] = [5, 7]\n",
    "\n"
   ]
  },
  {
   "cell_type": "code",
   "execution_count": null,
   "id": "2ce5b723",
   "metadata": {
    "id": "2ce5b723"
   },
   "outputs": [],
   "source": []
  }
 ],
 "metadata": {
  "colab": {
   "provenance": []
  },
  "kernelspec": {
   "display_name": "Python 3 (ipykernel)",
   "language": "python",
   "name": "python3"
  },
  "language_info": {
   "codemirror_mode": {
    "name": "ipython",
    "version": 3
   },
   "file_extension": ".py",
   "mimetype": "text/x-python",
   "name": "python",
   "nbconvert_exporter": "python",
   "pygments_lexer": "ipython3",
   "version": "3.12.4"
  }
 },
 "nbformat": 4,
 "nbformat_minor": 5
}
