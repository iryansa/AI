{
 "cells": [
  {
   "cell_type": "markdown",
   "metadata": {},
   "source": [
    "# Artificial Intellegence Lab 1 - <small>Spring 2025</small>"
   ]
  },
  {
   "cell_type": "markdown",
   "metadata": {},
   "source": [
    "### Ahmad Ryan - 22i-0781 - CS-B"
   ]
  },
  {
   "cell_type": "markdown",
   "metadata": {},
   "source": [
    "<hr>"
   ]
  },
  {
   "cell_type": "markdown",
   "metadata": {},
   "source": [
    "### Task 1 : <em>Calculate the area of a rectangle</em>"
   ]
  },
  {
   "cell_type": "code",
   "execution_count": 24,
   "metadata": {},
   "outputs": [
    {
     "name": "stdout",
     "output_type": "stream",
     "text": [
      "The area of the rectangle is 25 square units.\n"
     ]
    }
   ],
   "source": [
    "width = int(input('Please enter the width of the rectangle. '))\n",
    "length = int(input('Please enter the length of the rectangle. '))\n",
    "\n",
    "area = width * length\n",
    "print('The area of the rectangle is', area , 'square units.')"
   ]
  },
  {
   "cell_type": "markdown",
   "metadata": {},
   "source": [
    "### Task 2 : <em>List and Slicing</em>\n",
    "Create a list named student_info that contains your name, roll number, current semester, a list of courses you are enrolled in this semester (list your favorite course first). Print your name and the last two courses using slicing."
   ]
  },
  {
   "cell_type": "code",
   "execution_count": 31,
   "metadata": {},
   "outputs": [
    {
     "name": "stdout",
     "output_type": "stream",
     "text": [
      "Ahmad Ryan ['Database Systems', 'Software Engineering']\n"
     ]
    }
   ],
   "source": [
    "courses = ['Data Structures', 'DevOps', 'Database Systems', 'Software Engineering']\n",
    "student_info = ['Ahmad Ryan', '22i-0781', 6, courses]\n",
    "print(student_info[0], student_info[-1][-2:])"
   ]
  },
  {
   "cell_type": "markdown",
   "metadata": {},
   "source": [
    "### Task 3 : <em>Eligibility for Scholarship</em>"
   ]
  },
  {
   "cell_type": "code",
   "execution_count": 26,
   "metadata": {},
   "outputs": [
    {
     "name": "stdout",
     "output_type": "stream",
     "text": [
      "Eligible\n"
     ]
    }
   ],
   "source": [
    "# Percentage Calculator and Eligibility checker\n",
    "def check_eligibility(score, total):\n",
    "    percentage = (score / total) * 100\n",
    "    if percentage >= 90:\n",
    "        return 'Eligible'\n",
    "    else:\n",
    "        return 'Not Eligible'\n",
    "\n",
    "score = int(input('Please enter your score. '))\n",
    "total = int(input('Please enter the total score. '))\n",
    "\n",
    "print(check_eligibility(score, total))\n"
   ]
  },
  {
   "cell_type": "markdown",
   "metadata": {},
   "source": [
    "### Task 4 : <em> Room Details </em>"
   ]
  },
  {
   "cell_type": "code",
   "execution_count": 27,
   "metadata": {},
   "outputs": [
    {
     "name": "stdout",
     "output_type": "stream",
     "text": [
      "[120.5, 85.0, 110.0, 92.3, 76.4]\n",
      "120.5\n"
     ]
    }
   ],
   "source": [
    "rooms = ['room1', 120.5, 'room2', 85.0, 'room3', 110.0, 'room4', 92.3, 'room5', 76.4]\n",
    "\n",
    "room_areas = rooms[1::2]\n",
    "print(room_areas)\n",
    "\n",
    "print(rooms[1])"
   ]
  },
  {
   "cell_type": "markdown",
   "metadata": {},
   "source": [
    "### Task 5 : <em> Multiplication Table Printer </em>"
   ]
  },
  {
   "cell_type": "code",
   "execution_count": null,
   "metadata": {},
   "outputs": [
    {
     "name": "stdout",
     "output_type": "stream",
     "text": [
      "5 x 1 = 5\n",
      "5 x 2 = 10\n",
      "5 x 3 = 15\n",
      "5 x 4 = 20\n",
      "5 x 5 = 25\n",
      "5 x 6 = 30\n",
      "5 x 7 = 35\n",
      "5 x 8 = 40\n",
      "5 x 9 = 45\n",
      "5 x 10 = 50\n"
     ]
    }
   ],
   "source": [
    "num = int(input('Please enter a number. '))\n",
    "\n",
    "for i in range(1, 11):\n",
    "    print(num, 'x', i, '=', num * i)"
   ]
  }
 ],
 "metadata": {
  "kernelspec": {
   "display_name": "base",
   "language": "python",
   "name": "python3"
  },
  "language_info": {
   "codemirror_mode": {
    "name": "ipython",
    "version": 3
   },
   "file_extension": ".py",
   "mimetype": "text/x-python",
   "name": "python",
   "nbconvert_exporter": "python",
   "pygments_lexer": "ipython3",
   "version": "3.12.4"
  }
 },
 "nbformat": 4,
 "nbformat_minor": 2
}
