{
  "cells": [
    {
      "cell_type": "markdown",
      "metadata": {
        "id": "Esl0N49evL4T"
      },
      "source": [
        "# **Question 01**"
      ]
    },
    {
      "cell_type": "markdown",
      "metadata": {
        "id": "NAWxp2ku0h1z"
      },
      "source": [
        "## **Problem Statement**\n",
        "You are given a **4x4 sliding tile puzzle** consisting of **15 numbered tiles (1-15)** and **one empty space (0)**.  \n",
        "Your task is to implement the **A\\* search algorithm** to find the **shortest sequence of moves** that transforms the given **start state** into the **goal state** using the **Manhattan distance heuristic**.\n",
        "\n",
        "---\n",
        "\n",
        "## **Initial and Goal States**\n",
        "### **Start State (Given)**\n",
        "```python\n",
        "start_state = [\n",
        "    [1, 2, 3, 4],\n",
        "    [5, 6, 0, 8],\n",
        "    [9, 10, 7, 11],\n",
        "    [13, 14, 15, 12]\n",
        "]\n",
        "\n",
        "goal_state = [\n",
        "    [1, 2, 3, 4],\n",
        "    [5, 6, 7, 8],\n",
        "    [9, 10, 11, 12],\n",
        "    [13, 14, 15, 0]\n",
        "]\n",
        "```\n",
        "### **Expected Output:**\n",
        "\n",
        "*     Sequence of moves required to reach the goal (e.g., \"Move tile 7 left\").\n",
        "*     Final grid configuration after applying the moves.\n",
        "\n",
        "### **Constraints:**\n",
        "1.    You can only move the empty space (0) to adjacent positions (up, down, left, right).\n",
        "2.    The goal is to minimize the number of moves to reach the solved state.\n",
        "3.    **Heuristic Function:** The Manhattan distance between each tile’s current position and its goal position. The Manhattan distance for each tile is the sum of the horizontal and vertical distance between its current and goal positions.\n"
      ]
    },
    {
      "cell_type": "code",
      "execution_count": 28,
      "metadata": {
        "id": "UpvGEkBIvNF_"
      },
      "outputs": [],
      "source": [
        "def manhattan_distance(state):\n",
        "    \"\"\"\n",
        "    Compute the Manhattan distance heuristic for a given puzzle state.\n",
        "\n",
        "    - Each tile's distance to its goal position is calculated as:\n",
        "      h(n) = |current_row - goal_row| + |current_col - goal_col|\n",
        "\n",
        "    - Sum up distances for all tiles (ignoring the empty space).\n",
        "\n",
        "    Return:\n",
        "        int: Total heuristic cost (h(n))\n",
        "    \"\"\"\n",
        "    distance = 0\n",
        "    for i in range(len(state)):\n",
        "        for j in range(len(state[i])):\n",
        "            if state[i][j] != 0:  # Ignore the empty space\n",
        "                # Find the goal position of the current tile\n",
        "                goal_row = (state[i][j] - 1) // len(state)\n",
        "                goal_col = (state[i][j] - 1) % len(state[i])\n",
        "                # Calculate the Manhattan distance\n",
        "                distance += abs(i - goal_row) + abs(j - goal_col)\n",
        "    return distance"
      ]
    },
    {
      "cell_type": "code",
      "execution_count": null,
      "metadata": {
        "id": "9my5MIfzvNOW"
      },
      "outputs": [],
      "source": [
        "import heapq\n",
        "\n",
        "def get_neighbors(state):\n",
        "    \"\"\"\n",
        "    Generate all valid neighboring states by moving the empty space (0).\n",
        "    \"\"\"\n",
        "    neighbors = []\n",
        "    rows, cols = len(state), len(state[0])\n",
        "    directions = [(0, 1, \"right\"), (1, 0, \"down\"), (0, -1, \"left\"), (-1, 0, \"up\")]  # (dr, dc, move)\n",
        "\n",
        "    \n",
        "    empty_row, empty_col = -1, -1\n",
        "    for i in range(rows):\n",
        "        for j in range(cols):\n",
        "            if state[i][j] == 0:\n",
        "                empty_row, empty_col = i, j\n",
        "                break\n",
        "\n",
        "    \n",
        "    for dr, dc, move in directions:\n",
        "        new_row, new_col = empty_row + dr, empty_col + dc\n",
        "        if 0 <= new_row < rows and 0 <= new_col < cols:\n",
        "            \n",
        "            new_state = [row[:] for row in state]  \n",
        "            new_state[empty_row][empty_col], new_state[new_row][new_col] = (\n",
        "                new_state[new_row][new_col],\n",
        "                new_state[empty_row][empty_col],\n",
        "            )\n",
        "            \n",
        "            tile_moved = state[new_row][new_col]\n",
        "            move_description = f\"Move tile {tile_moved} {move}\"\n",
        "            neighbors.append((new_state, move_description))\n",
        "    return neighbors\n",
        "\n",
        "def a_star_search(start, goal):\n",
        "    \"\"\"\n",
        "    ### TODO:\n",
        "    Implement A* search algorithm to find the shortest path from start state to goal state.\n",
        "\n",
        "    - Use a priority queue (min-heap) to explore states.\n",
        "    - Select the state with the lowest f(n) = g(n) + h(n).\n",
        "    - Generate all valid moves by shifting the empty space (0).\n",
        "\n",
        "    Return:\n",
        "        list: Sequence of moves to reach the goal.\n",
        "    \"\"\"\n",
        "\n",
        "    # Priority queue: (f(n), g(n), state, path, moves)\n",
        "    heap = [(manhattan_distance(start), 0, start, [], [])]\n",
        "    heapq.heapify(heap)\n",
        "\n",
        "    \n",
        "    visited = set()\n",
        "\n",
        "    while heap:\n",
        "        f_n, g_n, current_state, path, moves = heapq.heappop(heap)\n",
        "\n",
        "        if current_state == goal:\n",
        "            return moves, current_state  \n",
        "\n",
        "        if tuple(map(tuple, current_state)) in visited:\n",
        "            continue  \n",
        "\n",
        "        visited.add(tuple(map(tuple, current_state)))\n",
        "\n",
        "        # Generate neighboring states\n",
        "        for neighbor, move_description in get_neighbors(current_state):\n",
        "            if tuple(map(tuple, neighbor)) not in visited:\n",
        "                \n",
        "                h_n = manhattan_distance(neighbor)\n",
        "                heapq.heappush(\n",
        "                    heap,\n",
        "                    (g_n + 1 + h_n, g_n + 1, neighbor, path + [neighbor], moves + [move_description]),\n",
        "                )\n",
        "\n",
        "    return None, None  \n",
        "\n"
      ]
    },
    {
      "cell_type": "code",
      "execution_count": 30,
      "metadata": {
        "id": "ROjsGzotvNRs"
      },
      "outputs": [
        {
          "name": "stdout",
          "output_type": "stream",
          "text": [
            "Solution found! Sequence of moves:\n",
            "Move tile 7 down\n",
            "Move tile 11 right\n",
            "Move tile 12 down\n",
            "\n",
            "Final grid configuration:\n",
            "[1, 2, 3, 4]\n",
            "[5, 6, 7, 8]\n",
            "[9, 10, 11, 12]\n",
            "[13, 14, 15, 0]\n"
          ]
        }
      ],
      "source": [
        "\n",
        "\n",
        "start_state = [\n",
        "    [1, 2, 3, 4],\n",
        "    [5, 6, 0, 8],\n",
        "    [9, 10, 7, 11],\n",
        "    [13, 14, 15, 12]\n",
        "]\n",
        "\n",
        "goal_state = [\n",
        "    [1, 2, 3, 4],\n",
        "    [5, 6, 7, 8],\n",
        "    [9, 10, 11, 12],\n",
        "    [13, 14, 15, 0]\n",
        "]\n",
        "\n",
        "# solution_moves = a_star_search(start_state, goal_state)\n",
        "# #print(\"Solution Moves:\", solution_moves)\n",
        "\n",
        "moves, final_state = a_star_search(start_state, goal_state)\n",
        "if moves:\n",
        "    print(\"Solution found! Sequence of moves:\")\n",
        "    for move in moves:\n",
        "        print(move)\n",
        "    print(\"\\nFinal grid configuration:\")\n",
        "    for row in final_state:\n",
        "        print(row)\n",
        "else:\n",
        "    print(\"No solution found.\")\n"
      ]
    },
    {
      "cell_type": "markdown",
      "metadata": {
        "id": "YiPCh-bAvI59"
      },
      "source": [
        "# **Question 02**"
      ]
    },
    {
      "cell_type": "markdown",
      "metadata": {
        "id": "Z1D2nQ4IwShs"
      },
      "source": [
        "This is a classic optimization problem, where we want to maximize the overall rating of the product while keeping the cost under a certain budget. We have a large dataset of customer reviews and ratings for a product, and we want to identify the most important features of the product based on customer feedback. Our goal is to maximize the overall rating of the product by improving the most important features. We want to find the best sequence of feature improvements that maximize the overall rating while keeping the cost under a certain\n",
        "budget."
      ]
    },
    {
      "cell_type": "code",
      "execution_count": 9,
      "metadata": {
        "id": "knmbz6hlqte2"
      },
      "outputs": [],
      "source": [
        "import random\n",
        "\n",
        "# feature improvements and their corresponding costs and ratings\n",
        "features = {\n",
        "    \"feature1\": {\"cost\": 100, \"rating\": 3.5},\n",
        "    \"feature2\": {\"cost\": 200, \"rating\": 4.2},\n",
        "    \"feature3\": {\"cost\": 150, \"rating\": 4.0},\n",
        "    \"feature4\": {\"cost\": 300, \"rating\": 3.8},\n",
        "    \"feature5\": {\"cost\": 250, \"rating\": 4.5},\n",
        "    \"feature6\": {\"cost\": 350, \"rating\": 3.6}\n",
        "}\n",
        "\n",
        "# budget for feature improvements\n",
        "budget = 200"
      ]
    },
    {
      "cell_type": "code",
      "execution_count": 10,
      "metadata": {
        "id": "QK9YkSlXxCt3"
      },
      "outputs": [],
      "source": [
        "\n",
        "def evaluate(state):\n",
        "    \"\"\"\n",
        "    - Calculate the total cost of the selected features.\n",
        "    - If the total cost is greater than the budget, return 0 (since we cannot exceed the budget).\n",
        "    - Otherwise, calculate and return the total rating improvement from the selected features.\n",
        "    \"\"\"\n",
        "    total_cost = sum(features[feature][\"cost\"] for feature in state)\n",
        "    if total_cost > budget:\n",
        "        return 0\n",
        "    total_rating = sum(features[feature][\"rating\"] for feature in state)\n",
        "    return total_rating\n",
        "\n",
        "\n",
        "def find_best_neighbor(state, remaining_budget):\n",
        "    best_neighbor = state\n",
        "    best_score = evaluate(state)\n",
        "\n",
        "    for feature_name in features:\n",
        "        if feature_name not in state and features[feature_name][\"cost\"] <= remaining_budget:\n",
        "            neighbor = state + [feature_name]\n",
        "            score = evaluate(neighbor)\n",
        "\n",
        "            if score > best_score:\n",
        "                best_score = score\n",
        "                best_neighbor = neighbor\n",
        "\n",
        "    return best_neighbor"
      ]
    },
    {
      "cell_type": "markdown",
      "metadata": {
        "id": "UwEAU6apr6HF"
      },
      "source": [
        "Now, apply the hill climbing algorithm using the following steps provided"
      ]
    },
    {
      "cell_type": "markdown",
      "metadata": {
        "id": "agkZlDufrT3U"
      },
      "source": [
        "\n",
        "1.   start with a random initial state\n",
        "\n",
        "2.   iterate until a local maximum is reached\n",
        "\n",
        "3. evaluate the neighboring states and select the one that improves the evaluation function the most\n",
        "\n",
        "4. update the current state with the selected neighboring state\n",
        "5. update the best state if the current state is better\n",
        "\n"
      ]
    },
    {
      "cell_type": "code",
      "execution_count": 11,
      "metadata": {
        "id": "gjgxLHGvq8xM"
      },
      "outputs": [],
      "source": [
        "def Hill_Climb():\n",
        "    selected_features = []\n",
        "    remaining_budget = budget\n",
        "\n",
        "    while True:\n",
        "       \n",
        "        new_state = find_best_neighbor(selected_features, remaining_budget)\n",
        "\n",
        "      \n",
        "        if new_state == selected_features:\n",
        "            break\n",
        "\n",
        "        \n",
        "        selected_features = new_state\n",
        "        remaining_budget = budget - sum(features[feature][\"cost\"] for feature in selected_features)\n",
        "\n",
        "    return selected_features\n",
        "\n",
        "\n"
      ]
    },
    {
      "cell_type": "code",
      "execution_count": 14,
      "metadata": {
        "id": "LxSAzjXuyuls"
      },
      "outputs": [
        {
          "name": "stdout",
          "output_type": "stream",
          "text": [
            "Best state: ['feature2']\n",
            "Total rating: 4.2\n",
            "Total cost: 200\n"
          ]
        }
      ],
      "source": [
        "\n",
        "best_state = Hill_Climb()\n",
        "\n",
        "print(\"Best state:\", best_state)\n",
        "print(\"Total rating:\", evaluate(best_state))\n",
        "print(\"Total cost:\", sum(features[feature][\"cost\"] for feature in best_state))"
      ]
    },
    {
      "cell_type": "markdown",
      "metadata": {
        "id": "4XtSMI2A24W4"
      },
      "source": []
    }
  ],
  "metadata": {
    "colab": {
      "provenance": []
    },
    "kernelspec": {
      "display_name": "base",
      "language": "python",
      "name": "python3"
    },
    "language_info": {
      "codemirror_mode": {
        "name": "ipython",
        "version": 3
      },
      "file_extension": ".py",
      "mimetype": "text/x-python",
      "name": "python",
      "nbconvert_exporter": "python",
      "pygments_lexer": "ipython3",
      "version": "3.12.4"
    }
  },
  "nbformat": 4,
  "nbformat_minor": 0
}
