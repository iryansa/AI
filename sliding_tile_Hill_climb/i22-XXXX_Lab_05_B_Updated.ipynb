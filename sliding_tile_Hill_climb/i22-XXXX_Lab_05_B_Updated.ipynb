{
 "cells": [
  {
   "cell_type": "markdown",
   "metadata": {
    "id": "Esl0N49evL4T"
   },
   "source": [
    "# **Question 01**"
   ]
  },
  {
   "cell_type": "markdown",
   "metadata": {
    "id": "NAWxp2ku0h1z"
   },
   "source": [
    "## **Problem Statement**\n",
    "You are given a **4x4 sliding tile puzzle** consisting of **15 numbered tiles (1-15)** and **one empty space (0)**.  \n",
    "Your task is to implement the **A\\* search algorithm** to find the **shortest sequence of moves** that transforms the given **start state** into the **goal state** using the **Manhattan distance heuristic**.\n",
    "\n",
    "---\n",
    "\n",
    "## **Initial and Goal States**\n",
    "### **Start State (Given)**\n",
    "```python\n",
    "start_state = [\n",
    "    [1, 2, 3, 4],\n",
    "    [5, 6, 0, 8],\n",
    "    [9, 10, 7, 11],\n",
    "    [13, 14, 15, 12]\n",
    "]\n",
    "\n",
    "goal_state = [\n",
    "    [1, 2, 3, 4],\n",
    "    [5, 6, 7, 8],\n",
    "    [9, 10, 11, 12],\n",
    "    [13, 14, 15, 0]\n",
    "]\n",
    "```\n",
    "### **Expected Output:**\n",
    "\n",
    "*     Sequence of moves required to reach the goal (e.g., \"Move tile 7 left\").\n",
    "*     Final grid configuration after applying the moves.\n",
    "\n",
    "### **Constraints:**\n",
    "1.    You can only move the empty space (0) to adjacent positions (up, down, left, right).\n",
    "2.    The goal is to minimize the number of moves to reach the solved state.\n",
    "3.    **Heuristic Function:** The Manhattan distance between each tile’s current position and its goal position. The Manhattan distance for each tile is the sum of the horizontal and vertical distance between its current and goal positions.\n"
   ]
  },
  {
   "cell_type": "code",
   "execution_count": null,
   "metadata": {
    "id": "UpvGEkBIvNF_"
   },
   "outputs": [],
   "source": [
    "\n",
    "def evaluate(state):\n",
    "    \"\"\"\n",
    "    - Calculate the total cost of the selected features.\n",
    "    - If the total cost is greater than the budget, return 0 (since we cannot exceed the budget).\n",
    "    - Otherwise, calculate and return the total rating improvement from the selected features.\n",
    "    \"\"\"\n",
    "    total_cost = sum(features[feature][\"cost\"] for feature in state)\n",
    "    if total_cost > budget:\n",
    "        return 0\n",
    "    return sum(features[feature][\"rating\"] for feature in state)\n"
   ]
  },
  {
   "cell_type": "code",
   "execution_count": null,
   "metadata": {
    "id": "9my5MIfzvNOW"
   },
   "outputs": [],
   "source": [
    "\n",
    "def hill_climbing(max_iter=1000):\n",
    "    # Start with a random initial state\n",
    "    current_state = random.sample(features.keys(), random.randint(1, len(features)))\n",
    "    best_state = current_state\n",
    "    best_score = evaluate(current_state)\n",
    "\n",
    "    for _ in range(max_iter):\n",
    "        # Generate a neighboring state by adding or removing a random feature\n",
    "        new_state = current_state[:]\n",
    "        if random.random() < 0.5 and len(new_state) > 1:\n",
    "            new_state.remove(random.choice(new_state))  # Remove feature\n",
    "        else:\n",
    "            new_state.append(random.choice(list(features.keys())))  # Add feature\n",
    "\n",
    "        new_state = list(set(new_state))  # Remove duplicates\n",
    "        new_score = evaluate(new_state)\n",
    "\n",
    "        if new_score > best_score:\n",
    "            best_state, best_score = new_state, new_score\n",
    "\n",
    "    return best_state\n"
   ]
  },
  {
   "cell_type": "code",
   "execution_count": null,
   "metadata": {
    "id": "ROjsGzotvNRs"
   },
   "outputs": [
    {
     "name": "stdout",
     "output_type": "stream",
     "text": [
      "\n"
     ]
    }
   ],
   "source": [
    "\n",
    "\n",
    "solution_moves = a_star_search(start_state, goal_state)\n",
    "\n",
    "print(\"Solution Moves:\")\n",
    "print(solution_moves)\n"
   ]
  },
  {
   "cell_type": "markdown",
   "metadata": {
    "id": "YiPCh-bAvI59"
   },
   "source": [
    "# **Question 02**"
   ]
  },
  {
   "cell_type": "markdown",
   "metadata": {
    "id": "Z1D2nQ4IwShs"
   },
   "source": [
    "This is a classic optimization problem, where we want to maximize the overall rating of the product while keeping the cost under a certain budget. We have a large dataset of customer reviews and ratings for a product, and we want to identify the most important features of the product based on customer feedback. Our goal is to maximize the overall rating of the product by improving the most important features. We want to find the best sequence of feature improvements that maximize the overall rating while keeping the cost under a certain\n",
    "budget."
   ]
  },
  {
   "cell_type": "code",
   "execution_count": 9,
   "metadata": {
    "id": "knmbz6hlqte2"
   },
   "outputs": [],
   "source": [
    "import random\n",
    "\n",
    "# feature improvements and their corresponding costs and ratings\n",
    "features = {\n",
    "    \"feature1\": {\"cost\": 100, \"rating\": 3.5},\n",
    "    \"feature2\": {\"cost\": 200, \"rating\": 4.2},\n",
    "    \"feature3\": {\"cost\": 150, \"rating\": 4.0},\n",
    "    \"feature4\": {\"cost\": 300, \"rating\": 3.8},\n",
    "    \"feature5\": {\"cost\": 250, \"rating\": 4.5},\n",
    "    \"feature6\": {\"cost\": 350, \"rating\": 3.6}\n",
    "}\n",
    "\n",
    "# budget for feature improvements\n",
    "budget = 1000"
   ]
  },
  {
   "cell_type": "code",
   "execution_count": 8,
   "metadata": {
    "id": "QK9YkSlXxCt3"
   },
   "outputs": [],
   "source": [
    "# evaluation function to calculate the overall rating after a feature improvement\n",
    "def evaluate(state):\n",
    "    \"\"\"\n",
    "    - Calculate the total cost of the selected features.\n",
    "    - If the total cost is greater than the budget, return 0 (since we cannot exceed the budget).\n",
    "    - Otherwise, calculate and return the total rating improvement from the selected features.\n",
    "\n",
    "    Think about how you can extract the cost and rating values from the 'features' dictionary\n",
    "    using the given 'state' (which is a list of selected feature names).\n",
    "    \"\"\"\n",
    "    pass # remove this after your implementation"
   ]
  },
  {
   "cell_type": "markdown",
   "metadata": {
    "id": "UwEAU6apr6HF"
   },
   "source": [
    "Now, apply the hill climbing algorithm using the following steps provided"
   ]
  },
  {
   "cell_type": "markdown",
   "metadata": {
    "id": "agkZlDufrT3U"
   },
   "source": [
    "\n",
    "1.   start with a random initial state\n",
    "\n",
    "2.   iterate until a local maximum is reached\n",
    "\n",
    "3. evaluate the neighboring states and select the one that improves the evaluation function the most\n",
    "\n",
    "4. update the current state with the selected neighboring state\n",
    "5. update the best state if the current state is better\n",
    "\n"
   ]
  },
  {
   "cell_type": "code",
   "execution_count": 11,
   "metadata": {
    "id": "gjgxLHGvq8xM"
   },
   "outputs": [],
   "source": [
    "# Hill climbing algorithm to find the best sequence of feature improvements\n",
    "def hill_climbing(max_iter=1000):\n",
    "    # start with a random initial state\n",
    "    current_state = random.sample(features.keys(), random.randint(1, len(features)))\n",
    "    best_state = current_state\n",
    "    best_score = evaluate(current_state)\n",
    "\n",
    "    # iterate until a local maximum is reached\n",
    "    # YOUR CODE HERE\n",
    "\n",
    "\n",
    "\n",
    "\n",
    "\n",
    "    return best_state\n",
    "\n"
   ]
  },
  {
   "cell_type": "code",
   "execution_count": null,
   "metadata": {
    "id": "LxSAzjXuyuls"
   },
   "outputs": [],
   "source": [
    "# run the hill climbing algorithm and print the best sequence of feature improvements\n",
    "best_state = hill_climbing()\n",
    "print(\"Best sequence of feature improvements:\", best_state)"
   ]
  },
  {
   "cell_type": "markdown",
   "metadata": {
    "id": "4XtSMI2A24W4"
   },
   "source": []
  }
 ],
 "metadata": {
  "colab": {
   "provenance": []
  },
  "kernelspec": {
   "display_name": "base",
   "language": "python",
   "name": "python3"
  },
  "language_info": {
   "codemirror_mode": {
    "name": "ipython",
    "version": 3
   },
   "file_extension": ".py",
   "mimetype": "text/x-python",
   "name": "python",
   "nbconvert_exporter": "python",
   "pygments_lexer": "ipython3",
   "version": "3.12.4"
  }
 },
 "nbformat": 4,
 "nbformat_minor": 0
}
