{
  "cells": [
    {
      "cell_type": "markdown",
      "id": "34bad134",
      "metadata": {
        "id": "34bad134"
      },
      "source": [
        "# Lab Task: Classification using Neural Networks in PyTorch (Iris Dataset)\n",
        "### Objective:\n",
        "In this task, you will build a neural network for classifying the Iris dataset. The task is divided into five clear parts."
      ]
    },
    {
      "cell_type": "markdown",
      "id": "1dd0ec91",
      "metadata": {
        "id": "1dd0ec91"
      },
      "source": [
        "## Dataset:\n",
        "You will use the **Iris dataset** (available in `sklearn.datasets`). It has 4 features:\n",
        "- `sepal length`\n",
        "- `sepal width`\n",
        "- `petal length`\n",
        "- `petal width`\n",
        "\n",
        "And 3 target classes:\n",
        "- Setosa (0)\n",
        "- Versicolour (1)\n",
        "- Virginica (2)"
      ]
    },
    {
      "cell_type": "markdown",
      "id": "8145588a",
      "metadata": {
        "id": "8145588a"
      },
      "source": [
        "## PART 1: Data Preprocessing"
      ]
    },
    {
      "cell_type": "markdown",
      "id": "0cbf3aca",
      "metadata": {
        "id": "0cbf3aca"
      },
      "source": [
        "Perform the following steps:\n",
        "1. Load the dataset using `sklearn.datasets.load_iris()`.\n",
        "2. Convert it to a Pandas DataFrame.\n",
        "3. Shuffle the dataset.\n",
        "4. Check for missing values.\n",
        "5. Normalize the feature columns using `StandardScaler`.\n",
        "6. Split the data into **80% training** and **20% testing**.\n",
        "7. Convert the data into PyTorch tensors."
      ]
    },
    {
      "cell_type": "code",
      "execution_count": 1,
      "id": "64fbf64e",
      "metadata": {
        "id": "64fbf64e"
      },
      "outputs": [],
      "source": [
        "# TODO BY STUDENTS: Import required libraries\n",
        "import pandas as pd\n",
        "import numpy as np\n",
        "from sklearn import datasets\n",
        "from sklearn.model_selection import train_test_split\n",
        "from sklearn.preprocessing import StandardScaler\n",
        "import torch"
      ]
    },
    {
      "cell_type": "code",
      "execution_count": 2,
      "id": "ffc1654a",
      "metadata": {
        "id": "ffc1654a",
        "colab": {
          "base_uri": "https://localhost:8080/"
        },
        "outputId": "b8d07bb4-d6bd-4c6e-f8d4-73605d172dee"
      },
      "outputs": [
        {
          "output_type": "stream",
          "name": "stdout",
          "text": [
            "Missing values:\n",
            " sepal length (cm)    0\n",
            "sepal width (cm)     0\n",
            "petal length (cm)    0\n",
            "petal width (cm)     0\n",
            "target               0\n",
            "dtype: int64\n",
            "Training set shape: torch.Size([120, 4])\n",
            "Test set shape: torch.Size([30, 4])\n"
          ]
        }
      ],
      "source": [
        "# TODO: Preprocess the Iris dataset step-by-step\n",
        "# Load Iris dataset\n",
        "iris = datasets.load_iris()\n",
        "\n",
        "# Convert to DataFrame\n",
        "df = pd.DataFrame(data=iris.data, columns=iris.feature_names)\n",
        "df['target'] = iris.target\n",
        "\n",
        "# Shuffle the dataset\n",
        "df = df.sample(frac=1, random_state=42).reset_index(drop=True)\n",
        "\n",
        "# Check for missing values\n",
        "print(\"Missing values:\\n\", df.isnull().sum())\n",
        "\n",
        "# Separate features and target\n",
        "X = df[iris.feature_names].values\n",
        "y = df['target'].values\n",
        "\n",
        "# Normalize features\n",
        "scaler = StandardScaler()\n",
        "X_scaled = scaler.fit_transform(X)\n",
        "\n",
        "# Split into train/test sets (80/20)\n",
        "X_train, X_test, y_train, y_test = train_test_split(X_scaled, y, test_size=0.2, random_state=42)\n",
        "\n",
        "# Convert to PyTorch tensors\n",
        "X_train_tensor = torch.tensor(X_train, dtype=torch.float32)\n",
        "X_test_tensor = torch.tensor(X_test, dtype=torch.float32)\n",
        "y_train_tensor = torch.tensor(y_train, dtype=torch.long)\n",
        "y_test_tensor = torch.tensor(y_test, dtype=torch.long)\n",
        "\n",
        "# Verify shapes\n",
        "print(\"Training set shape:\", X_train_tensor.shape)\n",
        "print(\"Test set shape:\", X_test_tensor.shape)"
      ]
    },
    {
      "cell_type": "markdown",
      "id": "7c94d86b",
      "metadata": {
        "id": "7c94d86b"
      },
      "source": [
        "## Feedforward Neural Network"
      ]
    },
    {
      "cell_type": "markdown",
      "id": "6c772a6e",
      "metadata": {
        "id": "6c772a6e"
      },
      "source": [
        "Build a PyTorch neural network with the following architecture:\n",
        "\n",
        "- Input Layer: 4 neurons\n",
        "- Hidden Layer 1: 10 neurons + ReLU\n",
        "- Output Layer: 3 neurons (no activation here, handled by loss function)\n",
        "\n",
        "Use `nn.CrossEntropyLoss()` as the loss function."
      ]
    },
    {
      "cell_type": "code",
      "source": [
        "import torch.nn as nn\n",
        "\n",
        "class Net(nn.Module):\n",
        "    def __init__(self):\n",
        "        super(Net, self).__init__()\n",
        "        self.fc1 = nn.Linear(4, 10)  # Input to hidden layer\n",
        "        self.fc2 = nn.Linear(10, 3)  # Hidden to output layer\n",
        "\n",
        "    def forward(self, x):\n",
        "        x = torch.relu(self.fc1(x))\n",
        "        x = self.fc2(x)\n",
        "        return x\n",
        "\n",
        "model_1 = Net()"
      ],
      "metadata": {
        "id": "j6AxjwtHBhhr"
      },
      "id": "j6AxjwtHBhhr",
      "execution_count": 3,
      "outputs": []
    },
    {
      "cell_type": "markdown",
      "id": "3933fe02",
      "metadata": {
        "id": "3933fe02"
      },
      "source": [
        "## PART 2: Modify Architecture"
      ]
    },
    {
      "cell_type": "markdown",
      "id": "14d10817",
      "metadata": {
        "id": "14d10817"
      },
      "source": [
        "Update your model as follows:\n",
        "- Input Layer: 4 neurons (unchanged)\n",
        "- Hidden Layer 1: 16 neurons + ReLU\n",
        "- Hidden Layer 2: 8 neurons + ReLU\n",
        "- Output Layer: 3 neurons"
      ]
    },
    {
      "cell_type": "code",
      "execution_count": 4,
      "id": "29518c59",
      "metadata": {
        "id": "29518c59"
      },
      "outputs": [],
      "source": [
        "class NetModified(nn.Module):\n",
        "    def __init__(self):\n",
        "        super(NetModified, self).__init__()\n",
        "        self.fc1 = nn.Linear(4, 16)   # Input to first hidden layer\n",
        "        self.fc2 = nn.Linear(16, 8)   # First to second hidden layer\n",
        "        self.fc3 = nn.Linear(8, 3)    # Second hidden to output layer\n",
        "\n",
        "    def forward(self, x):\n",
        "        x = torch.relu(self.fc1(x))\n",
        "        x = torch.relu(self.fc2(x))\n",
        "        x = self.fc3(x)\n",
        "        return x\n",
        "\n",
        "model_2 = NetModified()"
      ]
    },
    {
      "cell_type": "markdown",
      "id": "51d58b60",
      "metadata": {
        "id": "51d58b60"
      },
      "source": [
        "## PART 3: Apply Optimizer and Train models"
      ]
    },
    {
      "cell_type": "markdown",
      "id": "c4c20999",
      "metadata": {
        "id": "c4c20999"
      },
      "source": [
        "Use the following settings:\n",
        "- Optimizer: **Adam**\n",
        "- Learning Rate: `0.01`\n",
        "- Number of Epochs: `300`\n",
        "\n",
        "Train the updated model and log loss."
      ]
    },
    {
      "cell_type": "code",
      "execution_count": 5,
      "id": "6029ab19",
      "metadata": {
        "id": "6029ab19",
        "colab": {
          "base_uri": "https://localhost:8080/",
          "height": 576
        },
        "outputId": "245fb9ed-1d91-41e2-bfd0-8bae4ecb487d"
      },
      "outputs": [
        {
          "output_type": "stream",
          "name": "stdout",
          "text": [
            "Model 1 - Epoch [50/300], Loss: 0.3000\n",
            "Model 1 - Epoch [100/300], Loss: 0.1045\n",
            "Model 1 - Epoch [150/300], Loss: 0.0672\n",
            "Model 1 - Epoch [200/300], Loss: 0.0566\n",
            "Model 1 - Epoch [250/300], Loss: 0.0519\n",
            "Model 1 - Epoch [300/300], Loss: 0.0492\n"
          ]
        },
        {
          "output_type": "display_data",
          "data": {
            "text/plain": [
              "<Figure size 640x480 with 1 Axes>"
            ],
            "image/png": "[encoded data removed]"
          },
          "metadata": {}
        }
      ],
      "source": [
        "import torch.optim as optim\n",
        "import matplotlib.pyplot as plt\n",
        "\n",
        "# Define loss function and optimizer\n",
        "loss_fn = nn.CrossEntropyLoss()\n",
        "optimizer = optim.Adam(model_1.parameters(), lr=0.01)\n",
        "\n",
        "# Training loop\n",
        "epochs = 300\n",
        "losses_1 = []\n",
        "\n",
        "for epoch in range(epochs):\n",
        "    model_1.train()\n",
        "    y_pred = model_1(X_train_tensor)\n",
        "    loss = loss_fn(y_pred, y_train_tensor)\n",
        "    optimizer.zero_grad()\n",
        "    loss.backward()\n",
        "    optimizer.step()\n",
        "    losses_1.append(loss.item())\n",
        "    if (epoch + 1) % 50 == 0:\n",
        "        print(f'Model 1 - Epoch [{epoch+1}/{epochs}], Loss: {loss.item():.4f}')\n",
        "\n",
        "# Plot loss\n",
        "plt.plot(losses_1)\n",
        "plt.title('Training Loss (Model 1)')\n",
        "plt.xlabel('Epoch')\n",
        "plt.ylabel('Loss')\n",
        "plt.show()"
      ]
    },
    {
      "cell_type": "code",
      "source": [
        "import torch.optim as optim\n",
        "import matplotlib.pyplot as plt\n",
        "\n",
        "# Define loss function and optimizer\n",
        "loss_fn = nn.CrossEntropyLoss()\n",
        "optimizer = optim.Adam(model_2.parameters(), lr=0.01)\n",
        "\n",
        "# Training loop\n",
        "epochs = 300\n",
        "losses_2 = []\n",
        "\n",
        "for epoch in range(epochs):\n",
        "    model_2.train()\n",
        "    y_pred = model_2(X_train_tensor)\n",
        "    loss = loss_fn(y_pred, y_train_tensor)\n",
        "    optimizer.zero_grad()\n",
        "    loss.backward()\n",
        "    optimizer.step()\n",
        "    losses_2.append(loss.item())\n",
        "    if (epoch + 1) % 50 == 0:\n",
        "        print(f'Model 2 - Epoch [{epoch+1}/{epochs}], Loss: {loss.item():.4f}')\n",
        "\n",
        "# Plot loss\n",
        "plt.plot(losses_2)\n",
        "plt.title('Training Loss (Model 2)')\n",
        "plt.xlabel('Epoch')\n",
        "plt.ylabel('Loss')\n",
        "plt.show()"
      ],
      "metadata": {
        "id": "VZ8kYOV1B8Wz",
        "colab": {
          "base_uri": "https://localhost:8080/",
          "height": 576
        },
        "outputId": "1f9ea371-efeb-4cd1-c1d1-31b1d660b5b4"
      },
      "id": "VZ8kYOV1B8Wz",
      "execution_count": 6,
      "outputs": [
        {
          "output_type": "stream",
          "name": "stdout",
          "text": [
            "Model 2 - Epoch [50/300], Loss: 0.2779\n",
            "Model 2 - Epoch [100/300], Loss: 0.0609\n",
            "Model 2 - Epoch [150/300], Loss: 0.0443\n",
            "Model 2 - Epoch [200/300], Loss: 0.0328\n",
            "Model 2 - Epoch [250/300], Loss: 0.0095\n",
            "Model 2 - Epoch [300/300], Loss: 0.0023\n"
          ]
        },
        {
          "output_type": "display_data",
          "data": {
            "text/plain": [
              "<Figure size 640x480 with 1 Axes>"
            ],
            "image/png": "[encoded data removed]"
          },
          "metadata": {}
        }
      ]
    },
    {
      "cell_type": "markdown",
      "id": "2dd45e3a",
      "metadata": {
        "id": "2dd45e3a"
      },
      "source": [
        "## Evaluation of the Models"
      ]
    },
    {
      "cell_type": "markdown",
      "source": [
        "### **For model_1**"
      ],
      "metadata": {
        "id": "UnEQxQAmCNBi"
      },
      "id": "UnEQxQAmCNBi"
    },
    {
      "cell_type": "code",
      "execution_count": 7,
      "id": "df6b606e",
      "metadata": {
        "id": "df6b606e",
        "colab": {
          "base_uri": "https://localhost:8080/"
        },
        "outputId": "ddebd565-b08b-4003-d1bf-ead48bc8fb03"
      },
      "outputs": [
        {
          "output_type": "stream",
          "name": "stdout",
          "text": [
            "Model 1 Accuracy: 100.00%\n",
            "Confusion Matrix:\n",
            " [[11  0  0]\n",
            " [ 0 11  0]\n",
            " [ 0  0  8]]\n"
          ]
        }
      ],
      "source": [
        "from sklearn.metrics import accuracy_score, confusion_matrix\n",
        "\n",
        "model_1.eval()\n",
        "with torch.no_grad():\n",
        "    y_test_pred = model_1(X_test_tensor)\n",
        "    _, predicted = torch.max(y_test_pred, 1)\n",
        "\n",
        "accuracy_1 = accuracy_score(y_test_tensor, predicted)\n",
        "conf_matrix_1 = confusion_matrix(y_test_tensor, predicted)\n",
        "\n",
        "print(f'Model 1 Accuracy: {accuracy_1 * 100:.2f}%')\n",
        "print('Confusion Matrix:\\n', conf_matrix_1)"
      ]
    },
    {
      "cell_type": "markdown",
      "source": [
        "### **For model_2**"
      ],
      "metadata": {
        "id": "hIn1juqYCQ3n"
      },
      "id": "hIn1juqYCQ3n"
    },
    {
      "cell_type": "code",
      "source": [
        "from sklearn.metrics import accuracy_score, confusion_matrix\n",
        "\n",
        "model_2.eval()\n",
        "with torch.no_grad():\n",
        "    y_test_pred = model_2(X_test_tensor)\n",
        "    _, predicted = torch.max(y_test_pred, 1)\n",
        "\n",
        "accuracy_2 = accuracy_score(y_test_tensor, predicted)\n",
        "conf_matrix_2 = confusion_matrix(y_test_tensor, predicted)\n",
        "\n",
        "print(f'Model 2 Accuracy: {accuracy_2 * 100:.2f}%')\n",
        "print('Confusion Matrix:\\n', conf_matrix_2)"
      ],
      "metadata": {
        "id": "_IgLnFJeCTNj",
        "colab": {
          "base_uri": "https://localhost:8080/"
        },
        "outputId": "9a231656-c735-4eab-98a2-bb25f3b4354b"
      },
      "id": "_IgLnFJeCTNj",
      "execution_count": 8,
      "outputs": [
        {
          "output_type": "stream",
          "name": "stdout",
          "text": [
            "Model 2 Accuracy: 100.00%\n",
            "Confusion Matrix:\n",
            " [[11  0  0]\n",
            " [ 0 11  0]\n",
            " [ 0  0  8]]\n"
          ]
        }
      ]
    },
    {
      "cell_type": "code",
      "source": [],
      "metadata": {
        "id": "faE8t7miCfL1"
      },
      "id": "faE8t7miCfL1",
      "execution_count": null,
      "outputs": []
    }
  ],
  "metadata": {
    "colab": {
      "provenance": []
    },
    "language_info": {
      "name": "python"
    },
    "kernelspec": {
      "name": "python3",
      "display_name": "Python 3"
    }
  },
  "nbformat": 4,
  "nbformat_minor": 5
}