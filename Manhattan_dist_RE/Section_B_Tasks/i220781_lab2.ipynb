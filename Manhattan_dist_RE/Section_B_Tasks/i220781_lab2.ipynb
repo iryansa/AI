{
 "cells": [
  {
   "cell_type": "markdown",
   "metadata": {},
   "source": [
    "# Artificial Intellegence Lab 2 - <small>Spring 2025</small>\n"
   ]
  },
  {
   "cell_type": "markdown",
   "metadata": {},
   "source": [
    "### Ahmad Ryan - 22i-0781 - CS-B\n",
    "<hr>"
   ]
  },
  {
   "cell_type": "markdown",
   "metadata": {},
   "source": [
    "### Task 1 : <em>Manhattan Distance</em>\n"
   ]
  },
  {
   "cell_type": "code",
   "execution_count": 9,
   "metadata": {},
   "outputs": [
    {
     "name": "stdout",
     "output_type": "stream",
     "text": [
      "8\n"
     ]
    }
   ],
   "source": [
    "up = 0\n",
    "down = 0\n",
    "left = 0\n",
    "right = 0\n",
    "\n",
    "while True:\n",
    "    inp = input(\"Enter value: \").strip().lower()\n",
    "    \n",
    "    if inp.startswith('up'):\n",
    "        up += int(inp[2:].strip())\n",
    "        \n",
    "    elif inp.startswith('down'):\n",
    "        down += int(inp[4:].strip())\n",
    "        \n",
    "    elif inp.startswith('left'):\n",
    "        left += int(inp[4:].strip())\n",
    "        \n",
    "    elif inp.startswith('right'):\n",
    "        right += int(inp[5:].strip())\n",
    "        \n",
    "    else:\n",
    "        break\n",
    "\n",
    "x = abs(left - right)\n",
    "y = abs(up - down)\n",
    "print(x + y)\n"
   ]
  },
  {
   "cell_type": "markdown",
   "metadata": {},
   "source": [
    "### Task 2 "
   ]
  },
  {
   "cell_type": "code",
   "execution_count": 23,
   "metadata": {},
   "outputs": [
    {
     "name": "stdout",
     "output_type": "stream",
     "text": [
      "[[13 15  1  5  4]\n",
      " [14 12 29 23 14]\n",
      " [26 14 12 25 17]\n",
      " [25 22 15 26 17]\n",
      " [29 26 23 22 20]]\n",
      "\n",
      " [[ 13  15   1   5  -4]\n",
      " [-14 -12  29  23 -14]\n",
      " [-26 -14 -12  25  17]\n",
      " [ 25 -22  15 -26  17]\n",
      " [ 29 -26  23 -22 -20]]\n",
      "\n",
      "Product of odd elements:  1175236856015625\n"
     ]
    }
   ],
   "source": [
    "import numpy as np\n",
    "arr = np.random.randint(1, 30, (5, 5))\n",
    "print(arr)\n",
    "arr[arr % 2 == 0] *= -1\n",
    "print(\"\\n\", arr)\n",
    "\n",
    "product = np.prod(arr[arr % 2 != 0])\n",
    "print(\"\\nProduct of odd elements: \", product)\n",
    "\n"
   ]
  },
  {
   "cell_type": "markdown",
   "metadata": {},
   "source": [
    "### Task 3 : Regular Expression"
   ]
  },
  {
   "cell_type": "code",
   "execution_count": 39,
   "metadata": {},
   "outputs": [
    {
     "name": "stdout",
     "output_type": "stream",
     "text": [
      "{'banana': 3, 'artificial': 5, 'intelligence': 5, 'autonomous': 6, 'exploration': 5, 'blockchain': 3, 'quantum_computing': 6, 'fast-nuces': 3, 'aerospace': 5, 'verylongstringwithoutvowels': 8, 'cloud_technology': 5, 'lambda_expressions': 6, 'evolution': 5}\n"
     ]
    }
   ],
   "source": [
    "import re\n",
    "\n",
    "#lambda function to calculate the number of vowels in each valid string.\n",
    "count_vowels = lambda s: sum(1 for char in s if char in 'aeiouAEIOU')\n",
    "\n",
    "#separate function to remove strings with less than 3 vowels\n",
    "def remove_strings(data):\n",
    "    return [line for line in data if count_vowels(line) >= 3]\n",
    "\n",
    "def process_strings(file):\n",
    "    with open(file) as f:\n",
    "        data = f.readlines()\n",
    "        \n",
    "    data = [line for line in data if re.search('[a-zA-Z]', line)]\n",
    "    \n",
    "    # removing strings with less than 3 vowels\n",
    "    data = remove_strings(data)\n",
    "    \n",
    "    return {x.strip(): count_vowels(x) for x in data}\n",
    "\n",
    "print(process_strings('task3_input.txt'))\n"
   ]
  },
  {
   "cell_type": "markdown",
   "metadata": {},
   "source": [
    "### Task 4 "
   ]
  },
  {
   "cell_type": "code",
   "execution_count": 43,
   "metadata": {},
   "outputs": [
    {
     "name": "stdout",
     "output_type": "stream",
     "text": [
      "0    c\n",
      "1    b\n",
      "2    d\n",
      "3    e\n",
      "4    d\n",
      "dtype: object\n"
     ]
    }
   ],
   "source": [
    "import pandas as pd\n",
    "import numpy as np\n",
    "\n",
    "def second_negative_column(df):\n",
    "    # Function to find the column with the second negative value in a row\n",
    "    def find_second_negative(row):\n",
    "        # List of columns with negative values in the current row\n",
    "        negative_columns = [col for col in df.columns if row[col] < 0]\n",
    "        # Return the second negative column if it exists, otherwise return NaN\n",
    "        return negative_columns[1] if len(negative_columns) > 1 else np.nan\n",
    "\n",
    "    # Applying the function to each row of the DataFrame\n",
    "    return df.apply(find_second_negative, axis=1)\n",
    "\n",
    "\n",
    "data = {\n",
    "    'a': [4, -1, 6, 1, -2],\n",
    "    'b': [-3, -2, 8, -9, 3],\n",
    "    'c': [-1, 3, -5, 5, 4],\n",
    "    'd': [5, -4, -1, 7, -5],\n",
    "    'e': [2, 7, 3, -3, 6],\n",
    "    'f': [6, 8, 4, 8, -1],\n",
    "    'g': [-2, 9, 2, 6, 7],\n",
    "    'h': [-5, -3, -6, 0, -4]\n",
    "}\n",
    "\n",
    "df = pd.DataFrame(data)\n",
    "\n",
    "result = second_negative_column(df)\n",
    "print(result)"
   ]
  },
  {
   "cell_type": "markdown",
   "metadata": {},
   "source": [
    "### Task 5"
   ]
  },
  {
   "cell_type": "code",
   "execution_count": 53,
   "metadata": {},
   "outputs": [
    {
     "name": "stdout",
     "output_type": "stream",
     "text": [
      "Array 1:\n",
      " [[ 1  3  2  4 13]\n",
      " [ 9 15  7  4  9]\n",
      " [14  4  1  2 13]\n",
      " [14 13  7  2  3]\n",
      " [ 9 10  7 10  6]]\n",
      "\n",
      "Array 2:\n",
      " [[ 6 12 15  2 10]\n",
      " [ 3  6 14  0 13]\n",
      " [12 15 10  8  0]\n",
      " [10 11 13  7 14]\n",
      " [ 6 13  5 14 15]]\n",
      "Type: <class 'numpy.ndarray'>\n",
      "Shape: (5, 5)\n",
      "Modified array:\n",
      " [[ 1.  3.  2.  4. 13.]\n",
      " [ 9. 15.  7.  4.  9.]\n",
      " [14.  4.  1.  2. 13.]\n",
      " [14. 13.  7.  2.  3.]\n",
      " [ 9. 10.  7. 10.  6.]]\n",
      "Modified array2:\n",
      " [[ 6. 12. 15.  2. 10.]\n",
      " [ 3.  6. 14.  7. 13.]\n",
      " [12. 15. 10.  8.  7.]\n",
      " [10. 11. 13.  7. 14.]\n",
      " [ 6. 13.  5. 14. 15.]]\n",
      "\n",
      "\n",
      "Value: 1.0, Count: 2\n",
      "Value: 2.0, Count: 3\n",
      "Value: 3.0, Count: 2\n",
      "Value: 4.0, Count: 3\n",
      "Value: 6.0, Count: 1\n",
      "Value: 7.0, Count: 3\n",
      "Value: 9.0, Count: 3\n",
      "Value: 10.0, Count: 2\n",
      "Value: 13.0, Count: 3\n",
      "Value: 14.0, Count: 2\n",
      "Value: 15.0, Count: 1\n",
      "\n",
      "\n",
      "Sorted array:\n",
      " [[ 1.  3.  2.  4. 13.]\n",
      " [ 9. 15.  7.  4.  9.]\n",
      " [ 9. 10.  7. 10.  6.]\n",
      " [14.  4.  1.  2. 13.]\n",
      " [14. 13.  7.  2.  3.]]\n",
      "\n",
      "\n",
      "Modified array:\n",
      " [[ 0.  0.  0.  0.  0.]\n",
      " [ 9.  0.  7.  0.  9.]\n",
      " [ 9. 10.  7. 10.  6.]\n",
      " [ 0.  0.  0.  0.  0.]\n",
      " [ 0.  0.  7.  0.  0.]]\n",
      "Sum of all elements: 74.0\n"
     ]
    }
   ],
   "source": [
    "import numpy as np\n",
    "\n",
    "# Create two 5x5 NumPy arrays filled with random integers between 0 and 15\n",
    "arr1 = np.random.randint(0, 16, (5, 5))\n",
    "arr2 = np.random.randint(0, 16, (5, 5))\n",
    "\n",
    "print(\"Array 1:\\n\", arr1)\n",
    "print(\"\\nArray 2:\\n\", arr2)\n",
    "\n",
    "\n",
    "# 1. Print the type and shape of one array\n",
    "print(\"Type:\", type(arr1))\n",
    "print(\"Shape:\", arr1.shape)\n",
    "\n",
    "# 2. Replace all 0 values with NaN, and then replace NaN with a random integer between 1 and 15\n",
    "arr1 = arr1.astype(float)\n",
    "arr1[arr1 == 0] = np.nan\n",
    "arr1[np.isnan(arr1)] = np.random.randint(1, 16)\n",
    "print(\"Modified array:\\n\", arr1)\n",
    "\n",
    "arr2 = arr2.astype(float)\n",
    "arr2[arr2 == 0] = np.nan\n",
    "arr2[np.isnan(arr2)] = np.random.randint(1, 16)\n",
    "print(\"Modified array2:\\n\", arr2)\n",
    "\n",
    "print(\"\\n\")\n",
    "# 3. Find and display the unique values and their counts in the first array\n",
    "unique, counts = np.unique(arr1, return_counts=True)\n",
    "for i in range(len(unique)):\n",
    "    print(f\"Value: {unique[i]}, Count: {counts[i]}\")\n",
    "\n",
    "print(\"\\n\")\n",
    "\n",
    "# 4. Sort the first array by its first column\n",
    "arr1 = arr1[arr1[:, 0].argsort()]\n",
    "print(\"Sorted array:\\n\", arr1)\n",
    "\n",
    "print(\"\\n\")\n",
    "\n",
    "# 5. Replace all values outside the range [5, 10] with NaN, then replace NaN with 0, and calculate the sum of all elements\n",
    "arr1[(arr1 < 5) | (arr1 > 10)] = np.nan\n",
    "arr1[np.isnan(arr1)] = 0\n",
    "sum_elements = np.sum(arr1)\n",
    "print(\"Modified array:\\n\", arr1)\n",
    "print(\"Sum of all elements:\", sum_elements)\n",
    "\n",
    "\n",
    "\n"
   ]
  },
  {
   "cell_type": "markdown",
   "metadata": {},
   "source": [
    "### Task 6"
   ]
  },
  {
   "cell_type": "code",
   "execution_count": null,
   "metadata": {},
   "outputs": [
    {
     "name": "stdout",
     "output_type": "stream",
     "text": [
      "Total properties grouped by type and status:\n",
      "    data.type     data.status  Total Properties\n",
      "0   BUILDING          ACTIVE              8607\n",
      "1   BUILDING  DECOMMISSIONED                14\n",
      "2   BUILDING          EXCESS                42\n",
      "3       LAND          ACTIVE               119\n",
      "4  STRUCTURE          ACTIVE               344\n",
      "5  STRUCTURE  DECOMMISSIONED                 3\n",
      "City with the highest number of properties: WASHINGTON (458 properties)\n",
      "Top 5 zip codes with the highest average number of parking spaces:\n",
      " location.address.zip\n",
      "921546276    5000.0\n",
      "641084302    4900.0\n",
      "937275136    2641.0\n",
      "207061348    2637.0\n",
      "641471302    2410.0\n",
      "Name: data.parking spaces, dtype: float64\n",
      "Number of properties 'OWNED' and listed after the year 2000: 571\n"
     ]
    },
    {
     "data": {
      "image/png": "[encoded data removed]",
      "text/plain": [
       "<Figure size 1000x600 with 1 Axes>"
      ]
     },
     "metadata": {},
     "output_type": "display_data"
    }
   ],
   "source": [
    "import pandas as pd\n",
    "import matplotlib.pyplot as plt\n",
    "\n",
    "# Load the dataset and read it into a Pandas DataFrame\n",
    "df = pd.read_csv(\"real_estate.csv\")\n",
    "\n",
    "# 2. Check for missing values and handle them (replace missing numeric values with the mean, and categorical with the mode)\n",
    "if df.isnull().values.any():\n",
    "    for column in df.columns:\n",
    "        if df[column].dtype == 'object':\n",
    "            df[column].fillna(df[column].mode()[0], inplace=True)\n",
    "        else:\n",
    "            df[column].fillna(df[column].mean(), inplace=True)\n",
    "\n",
    "# 3. Calculate the total number of properties grouped by data.type and data.status\n",
    "grouped_properties = df.groupby([\"data.type\", \"data.status\"]).size().reset_index(name=\"Total Properties\")\n",
    "print(\"Total properties grouped by type and status:\\n\", grouped_properties)\n",
    "\n",
    "# 4. Identify the city with the highest number of properties listed\n",
    "city_property_counts = df[\"location.address.city\"].value_counts()\n",
    "most_properties_city = city_property_counts.idxmax()\n",
    "total_properties_in_city = city_property_counts.max()\n",
    "print(f\"City with the highest number of properties: {most_properties_city} ({total_properties_in_city} properties)\")\n",
    "\n",
    "# 5. Find the top 5 zip codes with the highest average number of parking spaces\n",
    "zip_avg_parking = df.groupby(\"location.address.zip\")[\"data.parking spaces\"].mean().nlargest(5)\n",
    "print(\"Top 5 zip codes with the highest average number of parking spaces:\\n\", zip_avg_parking)\n",
    "\n",
    "# 6. Determine how many properties are \"OWNED\" and were listed after the year 2000\n",
    "df[\"data.date\"] = pd.to_datetime(df[\"data.date\"], errors=\"coerce\")\n",
    "owned_after_2000 = df[(df[\"data.owned or leased\"] == \"OWNED\") & (df[\"data.date\"].dt.year > 2000)]\n",
    "owned_after_2000_count = owned_after_2000.shape[0]\n",
    "print(f\"Number of properties 'OWNED' and listed after the year 2000: {owned_after_2000_count}\")\n",
    "\n",
    "# 7. Create a bar plot showing the average number of parking spaces for each data.type\n",
    "avg_parking_by_type = df.groupby(\"data.type\")[\"data.parking spaces\"].mean()\n",
    "avg_parking_by_type.plot(kind=\"bar\", color=\"skyblue\", figsize=(10, 6))\n",
    "plt.title(\"Average Number of Parking Spaces by Data Type\")\n",
    "plt.xlabel(\"Data Type\")\n",
    "plt.ylabel(\"Average Parking Spaces\")\n",
    "plt.xticks(rotation=45)\n",
    "plt.tight_layout()\n",
    "plt.show()\n",
    "\n"
   ]
  }
 ],
 "metadata": {
  "kernelspec": {
   "display_name": "base",
   "language": "python",
   "name": "python3"
  },
  "language_info": {
   "codemirror_mode": {
    "name": "ipython",
    "version": 3
   },
   "file_extension": ".py",
   "mimetype": "text/x-python",
   "name": "python",
   "nbconvert_exporter": "python",
   "pygments_lexer": "ipython3",
   "version": "3.12.4"
  }
 },
 "nbformat": 4,
 "nbformat_minor": 2
}
