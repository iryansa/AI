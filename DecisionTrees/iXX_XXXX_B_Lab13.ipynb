{
  "nbformat": 4,
  "nbformat_minor": 0,
  "metadata": {
    "colab": {
      "provenance": []
    },
    "kernelspec": {
      "name": "python3",
      "display_name": "Python 3"
    },
    "language_info": {
      "name": "python"
    }
  },
  "cells": [
    {
      "cell_type": "code",
      "execution_count": 1,
      "metadata": {
        "id": "HXGnAEeXtirP"
      },
      "outputs": [],
      "source": [
        "# ========================================================\n",
        "# Titanic Dataset Decision Tree Lab Task (Simplified Node Version)\n",
        "# ========================================================\n",
        "\n",
        "import pandas as pd\n",
        "from sklearn.model_selection import train_test_split\n",
        "\n",
        "# --- Load and Preprocess Data ---\n",
        "# TODO: Load titanic.csv and perform preprocessing (handle missing values, encoding, etc.)\n",
        "\n"
      ]
    },
    {
      "cell_type": "code",
      "source": [
        "# This section is already implemented for you\n",
        "# --- Node and Question Classes ---\n",
        "class Node:\n",
        "    def __init__(self, is_leaf=False, prediction=None, question=None, true_branch=None, false_branch=None):\n",
        "        self.is_leaf = is_leaf\n",
        "        self.prediction = prediction\n",
        "        self.question = question\n",
        "        self.true_branch = true_branch\n",
        "        self.false_branch = false_branch\n",
        "\n",
        "class Question:\n",
        "    def __init__(self, column, value):\n",
        "        self.column = column\n",
        "        self.value = value\n",
        "\n",
        "    def match(self, example):\n",
        "        val = example[self.column]\n",
        "        if is_numeric(val):\n",
        "            return val >= self.value\n",
        "        else:\n",
        "            return val == self.value\n"
      ],
      "metadata": {
        "id": "nqdGc4VPu7g4"
      },
      "execution_count": null,
      "outputs": []
    },
    {
      "cell_type": "code",
      "source": [
        "# --- Helper Functions ---"
      ],
      "metadata": {
        "id": "PsnOhddgv-II"
      },
      "execution_count": null,
      "outputs": []
    },
    {
      "cell_type": "code",
      "source": [
        "\n",
        "def unique_vals(rows, col):\n",
        "\n",
        "\n"
      ],
      "metadata": {
        "id": "EGK6lNCev-Js"
      },
      "execution_count": null,
      "outputs": []
    },
    {
      "cell_type": "code",
      "source": [
        "def class_counts(rows):\n",
        "#TODO: Count occurrences of each class in the dataset\n",
        "\n"
      ],
      "metadata": {
        "id": "ofl-rGk1v-NT"
      },
      "execution_count": null,
      "outputs": []
    },
    {
      "cell_type": "code",
      "source": [
        "def is_numeric(value):\n",
        "#TODO: Check if a value is numeric\n"
      ],
      "metadata": {
        "id": "cWB4Vjykv5Ur"
      },
      "execution_count": null,
      "outputs": []
    },
    {
      "cell_type": "code",
      "source": [
        "def partition(rows, question):\n",
        "#TODO: Partition the data into true and false branches based on the question\n",
        "    true_rows, false_rows = [], []\n",
        "\n",
        "\n",
        "\n",
        "    return true_rows, false_rows\n"
      ],
      "metadata": {
        "id": "4cmUwnQfv5X_"
      },
      "execution_count": null,
      "outputs": []
    },
    {
      "cell_type": "code",
      "source": [
        "def entropy(rows):\n",
        "#TODO: Calculate entropy of the data\n",
        "    counts = class_counts(rows)\n",
        "    impurity = 0.0\n",
        "\n",
        "\n",
        "\n",
        "    return impurity"
      ],
      "metadata": {
        "id": "V3xKupzDv5bF"
      },
      "execution_count": null,
      "outputs": []
    },
    {
      "cell_type": "code",
      "source": [
        "def info_gain(left, right, current_uncertainty):\n",
        "#TODO: Calculate the information gain from a split\n"
      ],
      "metadata": {
        "id": "qF395URiv3s7"
      },
      "execution_count": null,
      "outputs": []
    },
    {
      "cell_type": "code",
      "source": [
        "def find_best_split(rows):\n",
        "#TODO: Find the best feature and value to split on\n",
        "    best_gain = 0\n",
        "    best_question = None\n",
        "\n",
        "\n",
        "\n",
        "\n",
        "    return best_gain, best_question\n"
      ],
      "metadata": {
        "id": "ELuev-GsvkNu"
      },
      "execution_count": null,
      "outputs": []
    },
    {
      "cell_type": "code",
      "source": [
        "def build_tree(rows):\n",
        "#TODO: Build the tree by recursively splitting the data\n",
        "    gain, question = find_best_split(rows)\n",
        "\n",
        "    if gain == 0:\n",
        "        return Node(is_leaf=True, prediction=class_counts(rows))\n",
        "\n",
        "    true_rows, false_rows = partition(rows, question)\n",
        "\n",
        "    true_branch = build_tree(true_rows)\n",
        "    false_branch = build_tree(false_rows)\n",
        "\n",
        "    return Node(is_leaf=False, question=question, true_branch=true_branch, false_branch=false_branch)\n"
      ],
      "metadata": {
        "id": "BYKL3sQUvkSp"
      },
      "execution_count": null,
      "outputs": []
    },
    {
      "cell_type": "code",
      "source": [
        "def print_tree(node, spacing=\"\"):\n",
        "    if node.is_leaf:\n",
        "        print(spacing + \"Predict\", node.prediction)\n",
        "        return\n",
        "\n",
        "    print(spacing + f\"Is column[{node.question.column}] == {node.question.value}?\")\n",
        "\n",
        "    print(spacing + '--> True:')\n",
        "    print_tree(node.true_branch, spacing + \"  \")\n",
        "\n",
        "    print(spacing + '--> False:')\n",
        "    print_tree(node.false_branch, spacing + \"  \")\n"
      ],
      "metadata": {
        "id": "wo18lHFF-7Du"
      },
      "execution_count": null,
      "outputs": []
    },
    {
      "cell_type": "code",
      "source": [
        "def classify(row, node):\n",
        "\n",
        "\n"
      ],
      "metadata": {
        "id": "-I4Rg-wn-7FX"
      },
      "execution_count": null,
      "outputs": []
    },
    {
      "cell_type": "code",
      "source": [
        "def print_leaf(counts):\n",
        "    total = sum(counts.values()) * 1.0\n",
        "    probs = {}\n",
        "    for lbl in counts:\n",
        "        probs[lbl] = f\"{int(counts[lbl] / total * 100)}%\"\n",
        "    return probs"
      ],
      "metadata": {
        "id": "3eTwyLSEP2lW"
      },
      "execution_count": null,
      "outputs": []
    },
    {
      "cell_type": "code",
      "source": [
        "# --- Build and Print Tree ---\n",
        "\n",
        "my_tree = build_tree(train_data)\n",
        "print_tree(my_tree)\n",
        "\n",
        "# --- Predictions on Test Data ---\n",
        "\n",
        "y_true = []\n",
        "y_pred = []\n",
        "\n",
        "for row in test_data:\n",
        "    prediction = classify(row, my_tree)\n",
        "    predicted_label = max(prediction, key=prediction.get)\n",
        "    y_pred.append(predicted_label)\n",
        "    y_true.append(row[-1])"
      ],
      "metadata": {
        "id": "hVKsPCV6P0sn"
      },
      "execution_count": null,
      "outputs": []
    },
    {
      "cell_type": "markdown",
      "source": [
        "## **Evaluate the model**"
      ],
      "metadata": {
        "id": "-_HLeRMXPshY"
      }
    },
    {
      "cell_type": "markdown",
      "source": [
        "Find the following performance matrices results:\n",
        "- Accuracy (overall correct rate)\n",
        "\n",
        "- Precision (true positives ÷ predicted positives)\n",
        "\n",
        "- Recall (true positives ÷ actual positives)\n",
        "\n",
        "- Confusion Matrix\n",
        "\n",
        "- Classfication Report"
      ],
      "metadata": {
        "id": "zubN_WEJPfD4"
      }
    }
  ]
}