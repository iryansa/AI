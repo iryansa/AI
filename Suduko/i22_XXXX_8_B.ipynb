{
  "cells": [
    {
      "cell_type": "markdown",
      "metadata": {},
      "source": [
        "## Task 1"
      ]
    },
    {
      "cell_type": "code",
      "execution_count": null,
      "metadata": {},
      "outputs": [],
      "source": [
        "class SudokuSolver:\n",
        "    def __init__(self, grid):\n",
        "        self.grid = grid\n",
        "        self.variables = [(i, j) for i in range(9) for j in range(9)]\n",
        "        self.domains = {\n",
        "            var: set(range(1, 10)) if grid[var[0]][var[1]] == 0 else {grid[var[0]][var[1]]}\n",
        "            for var in self.variables\n",
        "        }\n",
        "        self.constraints = self.generate_constraints()\n",
        "\n",
        "    def generate_constraints(self):\n",
        "        \"\"\"\n",
        "        Add row column constraints and subgrid constraints\n",
        "        \"\"\"\n",
        "        constraints = []\n",
        "\n",
        "        return constraints\n",
        "\n",
        "    def is_valid(self, var, value):\n",
        "        \"\"\"\n",
        "        Check if assigning 'value' to 'var' satisfies all constraints.\n",
        "        \"\"\"\n",
        "        # TODO: Check against other variables in the same constraint group\n",
        "        pass # remove after implementation\n",
        "\n",
        "    def forward_checking(self, var, value):\n",
        "        \"\"\"\n",
        "        Remove 'value' from the domain of neighbors of 'var'.\n",
        "        Return list of affected variables to restore later.\n",
        "        \"\"\"\n",
        "        affected = []\n",
        "        # TODO: Implement forward checking\n",
        "        return affected\n",
        "\n",
        "    def restore_domains(self, affected, value):\n",
        "        \"\"\"\n",
        "        Restore removed values after backtracking.\n",
        "        \"\"\"\n",
        "        # TODO: Restore domain values to affected variables\n",
        "        pass\n",
        "\n",
        "    def backtrack(self):\n",
        "        \"\"\"\n",
        "        Solve the puzzle using backtracking + MRV + forward checking.\n",
        "        \"\"\"\n",
        "        # TODO: Select variable using MRV, try each value, apply forward checking, and backtrack if needed\n",
        "        return False\n",
        "\n",
        "    def solve(self):\n",
        "        if self.backtrack():\n",
        "            return self.grid\n",
        "        else:\n",
        "            return None\n"
      ]
    },
    {
      "cell_type": "code",
      "execution_count": 3,
      "metadata": {},
      "outputs": [
        {
          "name": "stdout",
          "output_type": "stream",
          "text": [
            "No solution exists.\n"
          ]
        }
      ],
      "source": [
        "\n",
        "# 9x9 Sudoku Grid (0 represents empty cells)\n",
        "sudoku_grid = [\n",
        "    [5, 3, 0, 0, 7, 0, 0, 0, 0],\n",
        "    [6, 0, 0, 1, 9, 5, 0, 0, 0],\n",
        "    [0, 9, 8, 0, 0, 0, 0, 6, 0],\n",
        "    [8, 0, 0, 0, 6, 0, 0, 0, 3],\n",
        "    [4, 0, 0, 8, 0, 3, 0, 0, 1],\n",
        "    [7, 0, 0, 0, 2, 0, 0, 0, 6],\n",
        "    [0, 6, 0, 0, 0, 0, 2, 8, 0],\n",
        "    [0, 0, 0, 4, 1, 9, 0, 0, 5],\n",
        "    [0, 0, 0, 0, 8, 0, 0, 7, 9],\n",
        "]\n",
        "\n",
        "# Solve the Sudoku\n",
        "solver = SudokuSolver(sudoku_grid)\n",
        "solution = solver.solve()\n",
        "\n",
        "# Print the solution\n",
        "if solution:\n",
        "    print(\"Solved Sudoku:\")\n",
        "    for row in solution:\n",
        "        print(row)\n",
        "else:\n",
        "    print(\"No solution exists.\")\n"
      ]
    }
  ],
  "metadata": {
    "colab": {
      "provenance": []
    },
    "kernelspec": {
      "display_name": "base",
      "language": "python",
      "name": "python3"
    },
    "language_info": {
      "codemirror_mode": {
        "name": "ipython",
        "version": 3
      },
      "file_extension": ".py",
      "mimetype": "text/x-python",
      "name": "python",
      "nbconvert_exporter": "python",
      "pygments_lexer": "ipython3",
      "version": "3.12.4"
    }
  },
  "nbformat": 4,
  "nbformat_minor": 0
}
