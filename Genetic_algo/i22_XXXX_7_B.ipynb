{
  "cells": [
    {
      "cell_type": "markdown",
      "metadata": {
        "id": "UJzKHAqXUkmT"
      },
      "source": [
        "# Lab 7 (Genetic Algorithm )\n"
      ]
    },
    {
      "cell_type": "markdown",
      "metadata": {
        "id": "d2UJ38P5Ukmf"
      },
      "source": [
        "## Lab Task 1: KnapSack Problem"
      ]
    },
    {
      "cell_type": "code",
      "execution_count": null,
      "metadata": {
        "colab": {
          "base_uri": "https://localhost:8080/"
        },
        "id": "RsSY-NExs2lL",
        "outputId": "db003c5b-c7e5-49b7-f33e-65e7e98aef58"
      },
      "outputs": [
        {
          "name": "stdout",
          "output_type": "stream",
          "text": [
            "Best Solution: [1, 1, 0, 0, 0, 1]\n",
            "Items Selected: ['N1', 'N2', 'N6']\n",
            "Total Value: 52\n"
          ]
        }
      ],
      "source": [
        "import random\n",
        "\n",
        "# Problem parameters\n",
        "items = [\n",
        "    {\"name\": \"N1\", \"value\": 14, \"weight\": 1},\n",
        "    {\"name\": \"N2\", \"value\": 23, \"weight\": 3},\n",
        "    {\"name\": \"N3\", \"value\": 8, \"weight\": 7},\n",
        "    {\"name\": \"N4\", \"value\": 9, \"weight\": 4},\n",
        "    {\"name\": \"N5\", \"value\": 17, \"weight\": 5},\n",
        "    {\"name\": \"N6\", \"value\": 15, \"weight\": 6}\n",
        "]\n",
        "max_weight = 10\n",
        "population_size = 10\n",
        "mutation_rate = 0.1\n",
        "generations = 50\n"
      ]
    },
    {
      "cell_type": "code",
      "execution_count": null,
      "metadata": {
        "id": "gHplnTHftrpI"
      },
      "outputs": [],
      "source": [
        "# Initialize population\n",
        "def initialize_population():\n",
        "    \"\"\"Generate an initial population of random solutions.\"\"\"\n",
        "    pass  # remove this after implementation\n"
      ]
    },
    {
      "cell_type": "code",
      "execution_count": null,
      "metadata": {
        "id": "NIUXn1DitrsI"
      },
      "outputs": [],
      "source": [
        "# Fitness function\n",
        "def fitness(individual):\n",
        "    \"\"\"Calculate total value while ensuring weight does not exceed max limit.\"\"\"\n",
        "    pass  # remove this after implementation\n",
        "\n"
      ]
    },
    {
      "cell_type": "code",
      "execution_count": null,
      "metadata": {
        "id": "8x_B0ZKqtruc"
      },
      "outputs": [],
      "source": [
        "# Selection\n",
        "def selection(population):\n",
        "    \"\"\"Select individuals based on fitness proportion.\"\"\"\n",
        "    pass  # remove this after implementation"
      ]
    },
    {
      "cell_type": "code",
      "execution_count": null,
      "metadata": {
        "id": "0U0833Rptrw0"
      },
      "outputs": [],
      "source": [
        "# Crossover\n",
        "def crossover(parent1, parent2):\n",
        "    \"\"\"Perform crossover between two parents.\"\"\"\n",
        "    pass  # remove this after implementation"
      ]
    },
    {
      "cell_type": "code",
      "execution_count": null,
      "metadata": {
        "id": "NoF50GQMtrzW"
      },
      "outputs": [],
      "source": [
        "# Mutation\n",
        "def mutate(individual):\n",
        "    \"\"\"Apply mutation by flipping a random bit with a probability.\"\"\"\n",
        "    pass  # remove this after implementation"
      ]
    },
    {
      "cell_type": "code",
      "execution_count": null,
      "metadata": {
        "id": "He718-I6WVgT"
      },
      "outputs": [],
      "source": [
        "# Replacement\n",
        "def replace_population(population, new_population):\n",
        "    \"\"\"Replace the weakest individuals with new offspring.\"\"\"\n",
        "    pass  # remove this after implementation"
      ]
    },
    {
      "cell_type": "code",
      "execution_count": null,
      "metadata": {
        "id": "lSMf7IOLWYld"
      },
      "outputs": [],
      "source": [
        "# Genetic Algorithm Execution\n",
        "def genetic_algorithm():\n",
        "    \"\"\"Run the genetic algorithm.\"\"\"\n",
        "    population = initialize_population()\n",
        "\n",
        "    for _ in range(generations):\n",
        "        new_population = []\n",
        "        for _ in range(population_size // 2):\n",
        "            parent1, parent2 = selection(population)\n",
        "            child1, child2 = crossover(parent1, parent2)\n",
        "            new_population.extend([mutate(child1), mutate(child2)])\n",
        "\n",
        "        population = replace_population(population, new_population)\n",
        "\n",
        "    best_solution = max(population, key=fitness)\n",
        "    print(f\"Best Solution: {best_solution}\")\n",
        "\n",
        "genetic_algorithm()"
      ]
    }
  ],
  "metadata": {
    "colab": {
      "provenance": []
    },
    "kernelspec": {
      "display_name": "base",
      "language": "python",
      "name": "python3"
    },
    "language_info": {
      "name": "python",
      "version": "3.12.4"
    }
  },
  "nbformat": 4,
  "nbformat_minor": 0
}
