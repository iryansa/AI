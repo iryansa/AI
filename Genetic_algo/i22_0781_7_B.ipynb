{
  "cells": [
    {
      "cell_type": "markdown",
      "metadata": {
        "id": "UJzKHAqXUkmT"
      },
      "source": [
        "# Lab 7 (Genetic Algorithm )\n"
      ]
    },
    {
      "cell_type": "markdown",
      "metadata": {},
      "source": [
        "### S. Ahmad Ryan - 22i-0781 - CS-B - AI Lab"
      ]
    },
    {
      "cell_type": "markdown",
      "metadata": {
        "id": "d2UJ38P5Ukmf"
      },
      "source": [
        "## Lab Task 1: KnapSack Problem"
      ]
    },
    {
      "cell_type": "code",
      "execution_count": 10,
      "metadata": {
        "colab": {
          "base_uri": "https://localhost:8080/"
        },
        "id": "RsSY-NExs2lL",
        "outputId": "db003c5b-c7e5-49b7-f33e-65e7e98aef58"
      },
      "outputs": [],
      "source": [
        "import random\n",
        "\n",
        "# Problem parameters\n",
        "items = [\n",
        "    {\"name\": \"N1\", \"value\": 14, \"weight\": 1},\n",
        "    {\"name\": \"N2\", \"value\": 23, \"weight\": 3},\n",
        "    {\"name\": \"N3\", \"value\": 8, \"weight\": 7},\n",
        "    {\"name\": \"N4\", \"value\": 9, \"weight\": 4},\n",
        "    {\"name\": \"N5\", \"value\": 17, \"weight\": 5},\n",
        "    {\"name\": \"N6\", \"value\": 15, \"weight\": 6}\n",
        "]\n",
        "max_weight = 10\n",
        "population_size = 10\n",
        "mutation_rate = 0.1\n",
        "generations = 50\n"
      ]
    },
    {
      "cell_type": "code",
      "execution_count": 11,
      "metadata": {
        "id": "gHplnTHftrpI"
      },
      "outputs": [],
      "source": [
        "# Initialize population\n",
        "def initialize_population():\n",
        "    \"\"\"Generate an initial population of random solutions.\"\"\"\n",
        "    return [[random.randint(0, 1) for _ in range(len(items))] for _ in range(population_size)]"
      ]
    },
    {
      "cell_type": "code",
      "execution_count": 12,
      "metadata": {
        "id": "NIUXn1DitrsI"
      },
      "outputs": [],
      "source": [
        "# Fitness function\n",
        "def fitness(individual):\n",
        "    \"\"\"Calculate total value while ensuring weight does not exceed max limit.\"\"\"\n",
        "    total_value = sum(individual[i] * items[i]['value'] for i in range(len(items)))\n",
        "    total_weight = sum(individual[i] * items[i]['weight'] for i in range(len(items)))\n",
        "    return total_value if total_weight <= max_weight else 0"
      ]
    },
    {
      "cell_type": "code",
      "execution_count": 13,
      "metadata": {
        "id": "8x_B0ZKqtruc"
      },
      "outputs": [],
      "source": [
        "# Selection\n",
        "def selection(population):\n",
        "    \"\"\"Select individuals using tournament selection.\"\"\"\n",
        "    tournament_size = 3\n",
        "    selected = random.sample(population, tournament_size)\n",
        "    return max(selected, key=fitness), max(selected, key=fitness)"
      ]
    },
    {
      "cell_type": "code",
      "execution_count": 14,
      "metadata": {
        "id": "0U0833Rptrw0"
      },
      "outputs": [],
      "source": [
        "# Crossover\n",
        "def crossover(parent1, parent2):\n",
        "    \"\"\"Perform two-point crossover between two parents.\"\"\"\n",
        "    if len(parent1) < 2:\n",
        "        return parent1, parent2  # No crossover possible\n",
        "    \n",
        "    point1, point2 = sorted(random.sample(range(len(parent1)), 2))\n",
        "    child1 = parent1[:point1] + parent2[point1:point2] + parent1[point2:]\n",
        "    child2 = parent2[:point1] + parent1[point1:point2] + parent2[point2:]\n",
        "    return child1, child2"
      ]
    },
    {
      "cell_type": "code",
      "execution_count": 15,
      "metadata": {
        "id": "NoF50GQMtrzW"
      },
      "outputs": [],
      "source": [
        "# Mutation\n",
        "def mutate(individual):\n",
        "    \"\"\"Apply mutation by flipping a bit with a probability.\"\"\"\n",
        "    return [bit if random.random() > mutation_rate else 1 - bit for bit in individual]"
      ]
    },
    {
      "cell_type": "code",
      "execution_count": 16,
      "metadata": {
        "id": "He718-I6WVgT"
      },
      "outputs": [],
      "source": [
        "# Replacement\n",
        "def replace_population(population, new_population):\n",
        "    \"\"\"Replace the weakest individuals with new offspring.\"\"\"\n",
        "    sorted_population = sorted(population, key=fitness, reverse=True)\n",
        "    valid_population = [ind for ind in new_population if fitness(ind) > 0]\n",
        "    \n",
        "    if valid_population:\n",
        "        sorted_population[-len(valid_population):] = valid_population\n",
        "    \n",
        "    return sorted_population"
      ]
    },
    {
      "cell_type": "code",
      "execution_count": null,
      "metadata": {
        "id": "lSMf7IOLWYld"
      },
      "outputs": [
        {
          "name": "stdout",
          "output_type": "stream",
          "text": [
            "Best Solution: [1, 1, 0, 0, 1, 0]\n",
            "Selected Items: ['N1', 'N2', 'N5']\n",
            "Total Value: 54\n",
            "Total Weight: 9\n"
          ]
        }
      ],
      "source": [
        "# Genetic Algorithm Execution\n",
        "def genetic_algorithm():\n",
        "    \"\"\"Run the genetic algorithm.\"\"\"\n",
        "    population = initialize_population()\n",
        "    \n",
        "    for _ in range(generations):\n",
        "        new_population = []\n",
        "        for _ in range(population_size // 2):\n",
        "            parent1, parent2 = selection(population)\n",
        "            child1, child2 = crossover(parent1, parent2)\n",
        "            new_population.extend([mutate(child1), mutate(child2)])\n",
        "        \n",
        "        population = replace_population(population, new_population)\n",
        "    \n",
        "    best_solution = max(population, key=fitness)\n",
        "    best_value = fitness(best_solution)\n",
        "    best_weight = sum(best_solution[i] * items[i]['weight'] for i in range(len(items)))\n",
        "    selected_items = [items[i]['name'] for i in range(len(items)) if best_solution[i] == 1]\n",
        "    \n",
        "    print(f\"Best Solution: {best_solution}\")\n",
        "    print(f\"Selected Items: {selected_items}\")\n",
        "    print(f\"Total Value: {best_value}\")\n",
        "    print(f\"Total Weight: {best_weight}\")\n",
        "\n",
        "genetic_algorithm()"
      ]
    }
  ],
  "metadata": {
    "colab": {
      "provenance": []
    },
    "kernelspec": {
      "display_name": "base",
      "language": "python",
      "name": "python3"
    },
    "language_info": {
      "codemirror_mode": {
        "name": "ipython",
        "version": 3
      },
      "file_extension": ".py",
      "mimetype": "text/x-python",
      "name": "python",
      "nbconvert_exporter": "python",
      "pygments_lexer": "ipython3",
      "version": "3.12.4"
    }
  },
  "nbformat": 4,
  "nbformat_minor": 0
}
