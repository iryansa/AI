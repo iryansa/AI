{
 "cells": [
  {
   "cell_type": "markdown",
   "id": "9ce3aad3",
   "metadata": {},
   "source": [
    "# **Intelligent Agents Lab Tasks**\n",
    "This notebook contains programming tasks related to **Agents, Environment, Simple Reflex Agents, and Model-Based Reflex Agents**.\n",
    "Students are required to complete the missing code sections.\n"
   ]
  },
  {
   "cell_type": "markdown",
   "id": "26d5b99b",
   "metadata": {},
   "source": [
    "## **Task 1: Implementing a Basic Agent Framework**\n",
    "Use the starter code and create a simple agent inside an environment."
   ]
  },
  {
   "cell_type": "code",
   "execution_count": 3,
   "id": "3c94f984",
   "metadata": {},
   "outputs": [],
   "source": [
    "# TODO: Create a basic Agent and Environment\n",
    "class Environment:\n",
    "    def __init__(self, size=2):\n",
    "        # TODO: Initialize grid environment\n",
    "        pass\n",
    "    # Add functions to place fill grid with Clean or Dirt Randomly\n",
    "\n",
    "class Agent:\n",
    "    def __init__(self, environment):\n",
    "        # TODO: Assign environment\n",
    "        # TODO: Assign agent position (x,y)\n",
    "        pass\n",
    "    def sense_environment(self):\n",
    "        # Check current cell state (Dirty or clean)\n",
    "        pass\n",
    "# TODO: Create and test the agent in an environment"
   ]
  },
  {
   "cell_type": "markdown",
   "id": "2234468c",
   "metadata": {},
   "source": [
    "## **Task 2: Implementing a Simple Reflex Agent**\n",
    "Add code to create the agent to clean dirt when detected."
   ]
  },
  {
   "cell_type": "code",
   "execution_count": 5,
   "id": "b18ab832",
   "metadata": {},
   "outputs": [],
   "source": [
    "# TODO: Implement a Simple Reflex Agent\n",
    "class SimpleReflexAgent(Agent):\n",
    "    # TODO: Create Constructor\n",
    "    def sense_environment(self):\n",
    "        # Check current cell state (Dirty or clean)\n",
    "        pass\n",
    "    def act(self):\n",
    "        # TODO: Implement perception and action logic\n",
    "        pass\n",
    "\n",
    "# TODO: Test the Simple Reflex Agent in the environment"
   ]
  },
  {
   "cell_type": "markdown",
   "id": "9ebe1b40",
   "metadata": {},
   "source": [
    "## **Task 3: Implementing a Model-Based Reflex Agent**"
   ]
  },
  {
   "cell_type": "code",
   "execution_count": 6,
   "id": "7374ea9a",
   "metadata": {},
   "outputs": [],
   "source": [
    "# TODO: Implement a Model-Based Reflex Agent\n",
    "class ModelBasedReflexAgent(SimpleReflexAgent):\n",
    "    def __init__(self, environment):\n",
    "        ## TODO: Fill this for environment\n",
    "        self.memory = set()\n",
    "\n",
    "    def act(self):\n",
    "        # TODO: Implement memory-based logic\n",
    "        pass\n",
    "\n",
    "# TODO: Test the Model-Based Reflex Agent"
   ]
  },
  {
   "cell_type": "markdown",
   "id": "483b789b",
   "metadata": {},
   "source": [
    "## **Task 4: Measuring Agent Performance**\n",
    "Track the number of steps taken and the efficiency of cleaning."
   ]
  },
  {
   "cell_type": "code",
   "execution_count": 7,
   "id": "a733ec3c",
   "metadata": {},
   "outputs": [],
   "source": [
    "# TODO: Modify agents to track performance metrics\n",
    "class PerformanceAgent(SimpleReflexAgent):\n",
    "    def __init__(self, environment):\n",
    "        super().__init__(environment)\n",
    "        self.steps = 0\n",
    "        self.cleaned = 0\n",
    "\n",
    "    def act(self):\n",
    "        self.steps += 1\n",
    "        # TODO: Implement tracking logic\n",
    "        pass"
   ]
  },
  {
   "cell_type": "code",
   "execution_count": null,
   "id": "f3eda6b1-5a58-4f32-bb4a-1e8fb6ab1b27",
   "metadata": {},
   "outputs": [],
   "source": []
  },
  {
   "cell_type": "code",
   "execution_count": null,
   "id": "43951bdd-4103-45c0-8f43-686d7f26a185",
   "metadata": {},
   "outputs": [],
   "source": []
  }
 ],
 "metadata": {
  "kernelspec": {
   "display_name": "Python 3 (ipykernel)",
   "language": "python",
   "name": "python3"
  },
  "language_info": {
   "codemirror_mode": {
    "name": "ipython",
    "version": 3
   },
   "file_extension": ".py",
   "mimetype": "text/x-python",
   "name": "python",
   "nbconvert_exporter": "python",
   "pygments_lexer": "ipython3",
   "version": "3.12.4"
  }
 },
 "nbformat": 4,
 "nbformat_minor": 5
}
