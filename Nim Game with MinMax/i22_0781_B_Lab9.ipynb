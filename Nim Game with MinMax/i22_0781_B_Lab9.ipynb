{
  "cells": [
    {
      "cell_type": "markdown",
      "id": "fdb39e84",
      "metadata": {
        "id": "fdb39e84"
      },
      "source": [
        "# Nim Game with Minimax\n",
        "This notebook provides a basic structure. Your task is to complete the game logic and the Minimax AI."
      ]
    },
    {
      "cell_type": "markdown",
      "id": "01ad7c32",
      "metadata": {
        "id": "01ad7c32"
      },
      "source": [
        "## Game Setup"
      ]
    },
    {
      "cell_type": "code",
      "execution_count": null,
      "id": "62683279",
      "metadata": {
        "id": "62683279"
      },
      "outputs": [],
      "source": [
        "\n",
        "def initialize_game():\n",
        "    \"\"\"Initialize the piles with 3, 4, and 5 sticks.\"\"\"\n",
        "    return [3, 4, 5]\n"
      ]
    },
    {
      "cell_type": "markdown",
      "id": "2d35f899",
      "metadata": {
        "id": "2d35f899"
      },
      "source": [
        "## Functions"
      ]
    },
    {
      "cell_type": "code",
      "execution_count": 2,
      "id": "dd3b6a09",
      "metadata": {
        "id": "dd3b6a09"
      },
      "outputs": [],
      "source": [
        "\n",
        "def is_terminal(piles):\n",
        "    \"\"\"Check if the game has ended (no sticks left).\"\"\"\n",
        "    return all(pile == 0 for pile in piles)\n"
      ]
    },
    {
      "cell_type": "code",
      "execution_count": 3,
      "id": "20563a1f",
      "metadata": {
        "id": "20563a1f"
      },
      "outputs": [],
      "source": [
        "\n",
        "def get_valid_moves(piles):\n",
        "    \"\"\"Return all valid moves as (pile_index, num_to_remove) pairs.\"\"\"\n",
        "    moves = []\n",
        "    for i, pile in enumerate(piles):\n",
        "        for num in range(1, pile + 1):\n",
        "            moves.append((i, num))\n",
        "    return moves\n"
      ]
    },
    {
      "cell_type": "code",
      "execution_count": 4,
      "id": "1c1c5f4d",
      "metadata": {
        "id": "1c1c5f4d"
      },
      "outputs": [],
      "source": [
        "\n",
        "def apply_move(piles, pile_index, num_to_remove):\n",
        "    \"\"\"Return a new list of piles after applying a move.\"\"\"\n",
        "    new_piles = piles[:]\n",
        "    new_piles[pile_index] -= num_to_remove\n",
        "    return new_piles\n"
      ]
    },
    {
      "cell_type": "code",
      "execution_count": 5,
      "id": "e1498086",
      "metadata": {
        "id": "e1498086"
      },
      "outputs": [],
      "source": [
        "\n",
        "def minimax(piles, is_maximizing):\n",
        "    \"\"\"Minimax recursive algorithm to determine best score.\"\"\"\n",
        "    if is_terminal(piles):\n",
        "        return -1 if is_maximizing else 1  # If AI is maximizing and game over, AI loses (-1)\n",
        "\n",
        "    if is_maximizing:\n",
        "        best_score = float('-inf')\n",
        "        for move in get_valid_moves(piles):\n",
        "            new_piles = apply_move(piles, move[0], move[1])\n",
        "            score = minimax(new_piles, False)\n",
        "            best_score = max(best_score, score)\n",
        "        return best_score\n",
        "    else:\n",
        "        best_score = float('inf')\n",
        "        for move in get_valid_moves(piles):\n",
        "            new_piles = apply_move(piles, move[0], move[1])\n",
        "            score = minimax(new_piles, True)\n",
        "            best_score = min(best_score, score)\n",
        "        return best_score\n"
      ]
    },
    {
      "cell_type": "code",
      "execution_count": 6,
      "id": "3144b1da",
      "metadata": {
        "id": "3144b1da"
      },
      "outputs": [],
      "source": [
        "\n",
        "def find_best_move(piles):\n",
        "    \"\"\"Return the best move for the AI using Minimax.\"\"\"\n",
        "    best_score = float('-inf')\n",
        "    best_move = None\n",
        "    for move in get_valid_moves(piles):\n",
        "        new_piles = apply_move(piles, move[0], move[1])\n",
        "        score = minimax(new_piles, False)\n",
        "        if score > best_score:\n",
        "            best_score = score\n",
        "            best_move = move\n",
        "    return best_move\n"
      ]
    },
    {
      "cell_type": "code",
      "execution_count": 7,
      "id": "dcb3b500",
      "metadata": {
        "id": "dcb3b500"
      },
      "outputs": [],
      "source": [
        "\n",
        "def get_human_move(piles):\n",
        "    \"\"\"Get a valid move from the human player.\"\"\"\n",
        "    while True:\n",
        "        try:\n",
        "            pile = int(input(\"Choose a pile (1-3): \")) - 1\n",
        "            if pile not in range(3) or piles[pile] == 0:\n",
        "                raise ValueError(\"Invalid pile selection.\")\n",
        "\n",
        "            amount = int(input(f\"How many sticks to remove from pile {pile+1}? \"))\n",
        "            if amount < 1 or amount > piles[pile]:\n",
        "                raise ValueError(\"Invalid number of sticks.\")\n",
        "            print(\"\\nYour move - Choose a pile (1-3): \", pile+1)\n",
        "            print(\"How many sticks to remove from pile\", pile+1, \"?\", amount)\n",
        "            print()\n",
        "            return pile, amount\n",
        "        except ValueError as e:\n",
        "            print(e)\n",
        "            print(\"Please enter a valid move.\")\n"
      ]
    },
    {
      "cell_type": "code",
      "execution_count": 8,
      "id": "e701b833",
      "metadata": {
        "id": "e701b833"
      },
      "outputs": [],
      "source": [
        "\n",
        "def game_loop():\n",
        "    \"\"\"Main game loop where human and AI take turns.\"\"\"\n",
        "    piles = initialize_game()\n",
        "    current_player = \"HUMAN\"\n",
        "\n",
        "    while not is_terminal(piles):\n",
        "        print(f\"Piles: {piles}\")\n",
        "        if current_player == \"HUMAN\":\n",
        "            pile, amount = get_human_move(piles)\n",
        "        else:\n",
        "            print(\"AI is thinking...\")\n",
        "            pile, amount = find_best_move(piles)\n",
        "            print(f\"AI removes {amount} from pile {pile+1}\")\n",
        "\n",
        "        piles = apply_move(piles, pile, amount)\n",
        "        current_player = \"AI\" if current_player == \"HUMAN\" else \"HUMAN\"\n",
        "\n",
        "    print(f\"Game over! {current_player} loses.\")\n"
      ]
    },
    {
      "cell_type": "code",
      "execution_count": null,
      "id": "884f89e6",
      "metadata": {
        "id": "884f89e6"
      },
      "outputs": [
        {
          "name": "stdout",
          "output_type": "stream",
          "text": [
            "Piles: [1, 2, 3, 4, 5]\n",
            "\n",
            "Your move - Choose a pile (1-3):  1\n",
            "How many sticks to remove from pile 1 ? 1\n",
            "\n",
            "Piles: [0, 2, 3, 4, 5]\n",
            "AI is thinking...\n",
            "AI removes 1 from pile 2\n",
            "Piles: [0, 1, 3, 4, 5]\n",
            "\n",
            "Your move - Choose a pile (1-3):  3\n",
            "How many sticks to remove from pile 3 ? 2\n",
            "\n",
            "Piles: [0, 1, 1, 4, 5]\n",
            "AI is thinking...\n",
            "AI removes 1 from pile 2\n",
            "Piles: [0, 0, 1, 4, 5]\n",
            "Invalid pile selection.\n",
            "Please enter a valid move.\n",
            "Invalid pile selection.\n",
            "Please enter a valid move.\n",
            "Invalid pile selection.\n",
            "Please enter a valid move.\n",
            "\n",
            "Your move - Choose a pile (1-3):  3\n",
            "How many sticks to remove from pile 3 ? 1\n",
            "\n",
            "Piles: [0, 0, 0, 4, 5]\n",
            "AI is thinking...\n",
            "AI removes 1 from pile 5\n",
            "Piles: [0, 0, 0, 4, 4]\n",
            "Invalid pile selection.\n",
            "Please enter a valid move.\n",
            "Invalid pile selection.\n",
            "Please enter a valid move.\n"
          ]
        }
      ],
      "source": [
        "\n",
        "# Run the game\n",
        "game_loop()\n"
      ]
    }
  ],
  "metadata": {
    "colab": {
      "provenance": []
    },
    "kernelspec": {
      "display_name": "base",
      "language": "python",
      "name": "python3"
    },
    "language_info": {
      "codemirror_mode": {
        "name": "ipython",
        "version": 3
      },
      "file_extension": ".py",
      "mimetype": "text/x-python",
      "name": "python",
      "nbconvert_exporter": "python",
      "pygments_lexer": "ipython3",
      "version": "3.12.4"
    }
  },
  "nbformat": 4,
  "nbformat_minor": 5
}
