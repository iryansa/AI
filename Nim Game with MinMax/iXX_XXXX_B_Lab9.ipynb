{
  "cells": [
    {
      "cell_type": "markdown",
      "id": "fdb39e84",
      "metadata": {
        "id": "fdb39e84"
      },
      "source": [
        "# Nim Game with Minimax\n",
        "This notebook provides a basic structure. Your task is to complete the game logic and the Minimax AI."
      ]
    },
    {
      "cell_type": "markdown",
      "id": "01ad7c32",
      "metadata": {
        "id": "01ad7c32"
      },
      "source": [
        "## Game Setup"
      ]
    },
    {
      "cell_type": "code",
      "execution_count": null,
      "id": "62683279",
      "metadata": {
        "id": "62683279"
      },
      "outputs": [],
      "source": [
        "\n",
        "def initialize_game():\n",
        "    \"\"\"Initialize the piles with 3, 4, and 5 sticks.\"\"\"\n",
        "    return [3, 4, 5]\n"
      ]
    },
    {
      "cell_type": "markdown",
      "id": "2d35f899",
      "metadata": {
        "id": "2d35f899"
      },
      "source": [
        "## Functions"
      ]
    },
    {
      "cell_type": "code",
      "execution_count": null,
      "id": "dd3b6a09",
      "metadata": {
        "id": "dd3b6a09"
      },
      "outputs": [],
      "source": [
        "\n",
        "def is_terminal(piles):\n",
        "    \"\"\"Check if the game has ended (no sticks left).\"\"\"\n",
        "    # TODO: Return True if all piles are empty\n",
        "    pass\n"
      ]
    },
    {
      "cell_type": "code",
      "execution_count": null,
      "id": "20563a1f",
      "metadata": {
        "id": "20563a1f"
      },
      "outputs": [],
      "source": [
        "\n",
        "def get_valid_moves(piles):\n",
        "    \"\"\"Return all valid moves as (pile_index, num_to_remove) pairs.\"\"\"\n",
        "    # TODO: Generate a list of valid moves\n",
        "    pass\n"
      ]
    },
    {
      "cell_type": "code",
      "execution_count": null,
      "id": "1c1c5f4d",
      "metadata": {
        "id": "1c1c5f4d"
      },
      "outputs": [],
      "source": [
        "\n",
        "def apply_move(piles, pile_index, num_to_remove):\n",
        "    \"\"\"Return a new list of piles after applying a move.\"\"\"\n",
        "    # TODO: Copy piles and apply the move\n",
        "    pass\n"
      ]
    },
    {
      "cell_type": "code",
      "execution_count": null,
      "id": "e1498086",
      "metadata": {
        "id": "e1498086"
      },
      "outputs": [],
      "source": [
        "\n",
        "def minimax(piles, is_maximizing):\n",
        "    \"\"\"Minimax recursive algorithm to determine best score.\"\"\"\n",
        "    # TODO: Base case for terminal state\n",
        "    # TODO: Recursive call for maximizing and minimizing player\n",
        "    pass\n"
      ]
    },
    {
      "cell_type": "code",
      "execution_count": null,
      "id": "3144b1da",
      "metadata": {
        "id": "3144b1da"
      },
      "outputs": [],
      "source": [
        "\n",
        "def find_best_move(piles):\n",
        "    \"\"\"Return the best move for the AI using Minimax.\"\"\"\n",
        "    # TODO: Evaluate all valid moves using Minimax\n",
        "    pass\n"
      ]
    },
    {
      "cell_type": "code",
      "execution_count": null,
      "id": "dcb3b500",
      "metadata": {
        "id": "dcb3b500"
      },
      "outputs": [],
      "source": [
        "\n",
        "def get_human_move(piles):\n",
        "    \"\"\"Get a valid move from the human player.\"\"\"\n",
        "    # TODO: Prompt user, validate input, and return move\n",
        "    pass\n"
      ]
    },
    {
      "cell_type": "code",
      "execution_count": null,
      "id": "e701b833",
      "metadata": {
        "id": "e701b833"
      },
      "outputs": [],
      "source": [
        "\n",
        "def game_loop():\n",
        "    \"\"\"Main game loop where human and AI take turns.\"\"\"\n",
        "    piles = initialize_game()\n",
        "    current_player = \"HUMAN\"\n",
        "\n",
        "    while not is_terminal(piles):\n",
        "        print(f\"Piles: {piles}\")\n",
        "        if current_player == \"HUMAN\":\n",
        "            pile, amount = get_human_move(piles)\n",
        "        else:\n",
        "            print(\"AI is thinking...\")\n",
        "            pile, amount = find_best_move(piles)\n",
        "            print(f\"AI removes {amount} from pile {pile+1}\")\n",
        "\n",
        "        piles = apply_move(piles, pile, amount)\n",
        "        current_player = \"AI\" if current_player == \"HUMAN\" else \"HUMAN\"\n",
        "\n",
        "    print(f\"Game over! {current_player} loses.\")\n"
      ]
    },
    {
      "cell_type": "code",
      "execution_count": null,
      "id": "884f89e6",
      "metadata": {
        "id": "884f89e6"
      },
      "outputs": [],
      "source": [
        "\n",
        "# Run the game\n",
        "game_loop()\n"
      ]
    }
  ],
  "metadata": {
    "language_info": {
      "name": "python"
    },
    "colab": {
      "provenance": []
    }
  },
  "nbformat": 4,
  "nbformat_minor": 5
}